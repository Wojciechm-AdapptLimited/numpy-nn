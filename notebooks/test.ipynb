{
 "cells": [
  {
   "cell_type": "code",
   "execution_count": 21,
   "metadata": {
    "collapsed": false
   },
   "outputs": [
    {
     "name": "stdout",
     "output_type": "stream",
     "text": [
      "The autoreload extension is already loaded. To reload it, use:\n",
      "  %reload_ext autoreload\n"
     ]
    }
   ],
   "source": [
    "%load_ext autoreload\n",
    "%autoreload 2"
   ]
  },
  {
   "cell_type": "code",
   "execution_count": 22,
   "metadata": {
    "collapsed": false
   },
   "outputs": [],
   "source": [
    "import numpy as np\n",
    "import seaborn as sns\n",
    "import matplotlib.pyplot as plt\n",
    "import numpy_nn as nn"
   ]
  },
  {
   "cell_type": "code",
   "execution_count": 23,
   "metadata": {
    "collapsed": false
   },
   "outputs": [
    {
     "data": {
      "text/plain": "   sepal_length  sepal_width  petal_length  petal_width species\n0           5.1          3.5           1.4          0.2  setosa\n1           4.9          3.0           1.4          0.2  setosa\n2           4.7          3.2           1.3          0.2  setosa\n3           4.6          3.1           1.5          0.2  setosa\n4           5.0          3.6           1.4          0.2  setosa",
      "text/html": "<div>\n<style scoped>\n    .dataframe tbody tr th:only-of-type {\n        vertical-align: middle;\n    }\n\n    .dataframe tbody tr th {\n        vertical-align: top;\n    }\n\n    .dataframe thead th {\n        text-align: right;\n    }\n</style>\n<table border=\"1\" class=\"dataframe\">\n  <thead>\n    <tr style=\"text-align: right;\">\n      <th></th>\n      <th>sepal_length</th>\n      <th>sepal_width</th>\n      <th>petal_length</th>\n      <th>petal_width</th>\n      <th>species</th>\n    </tr>\n  </thead>\n  <tbody>\n    <tr>\n      <th>0</th>\n      <td>5.1</td>\n      <td>3.5</td>\n      <td>1.4</td>\n      <td>0.2</td>\n      <td>setosa</td>\n    </tr>\n    <tr>\n      <th>1</th>\n      <td>4.9</td>\n      <td>3.0</td>\n      <td>1.4</td>\n      <td>0.2</td>\n      <td>setosa</td>\n    </tr>\n    <tr>\n      <th>2</th>\n      <td>4.7</td>\n      <td>3.2</td>\n      <td>1.3</td>\n      <td>0.2</td>\n      <td>setosa</td>\n    </tr>\n    <tr>\n      <th>3</th>\n      <td>4.6</td>\n      <td>3.1</td>\n      <td>1.5</td>\n      <td>0.2</td>\n      <td>setosa</td>\n    </tr>\n    <tr>\n      <th>4</th>\n      <td>5.0</td>\n      <td>3.6</td>\n      <td>1.4</td>\n      <td>0.2</td>\n      <td>setosa</td>\n    </tr>\n  </tbody>\n</table>\n</div>"
     },
     "execution_count": 23,
     "metadata": {},
     "output_type": "execute_result"
    }
   ],
   "source": [
    "dataset = sns.load_dataset(\"iris\")\n",
    "dataset.head()"
   ]
  },
  {
   "cell_type": "code",
   "execution_count": 24,
   "metadata": {
    "collapsed": false
   },
   "outputs": [
    {
     "name": "stdout",
     "output_type": "stream",
     "text": [
      "Training set size: 120\n",
      "Test set size: 30\n"
     ]
    }
   ],
   "source": [
    "train_data = dataset.sample(frac=.8, random_state=42)\n",
    "test_data = dataset.drop(train_data.index)\n",
    "\n",
    "print(f'Training set size: {len(train_data)}')\n",
    "print(f'Test set size: {len(test_data)}')"
   ]
  },
  {
   "cell_type": "code",
   "execution_count": 25,
   "metadata": {
    "collapsed": false
   },
   "outputs": [],
   "source": [
    "TARGET_NAME = \"species\"\n",
    "NUM_VARIABLES = ['sepal_length', 'sepal_width', 'petal_length', 'petal_width']"
   ]
  },
  {
   "cell_type": "code",
   "execution_count": 26,
   "metadata": {
    "collapsed": false
   },
   "outputs": [
    {
     "data": {
      "text/plain": "     sepal_length  sepal_width  petal_length  petal_width     species\n73            6.1          2.8           4.7          1.2  versicolor\n18            5.7          3.8           1.7          0.3      setosa\n118           7.7          2.6           6.9          2.3   virginica\n78            6.0          2.9           4.5          1.5  versicolor\n76            6.8          2.8           4.8          1.4  versicolor",
      "text/html": "<div>\n<style scoped>\n    .dataframe tbody tr th:only-of-type {\n        vertical-align: middle;\n    }\n\n    .dataframe tbody tr th {\n        vertical-align: top;\n    }\n\n    .dataframe thead th {\n        text-align: right;\n    }\n</style>\n<table border=\"1\" class=\"dataframe\">\n  <thead>\n    <tr style=\"text-align: right;\">\n      <th></th>\n      <th>sepal_length</th>\n      <th>sepal_width</th>\n      <th>petal_length</th>\n      <th>petal_width</th>\n      <th>species</th>\n    </tr>\n  </thead>\n  <tbody>\n    <tr>\n      <th>73</th>\n      <td>6.1</td>\n      <td>2.8</td>\n      <td>4.7</td>\n      <td>1.2</td>\n      <td>versicolor</td>\n    </tr>\n    <tr>\n      <th>18</th>\n      <td>5.7</td>\n      <td>3.8</td>\n      <td>1.7</td>\n      <td>0.3</td>\n      <td>setosa</td>\n    </tr>\n    <tr>\n      <th>118</th>\n      <td>7.7</td>\n      <td>2.6</td>\n      <td>6.9</td>\n      <td>2.3</td>\n      <td>virginica</td>\n    </tr>\n    <tr>\n      <th>78</th>\n      <td>6.0</td>\n      <td>2.9</td>\n      <td>4.5</td>\n      <td>1.5</td>\n      <td>versicolor</td>\n    </tr>\n    <tr>\n      <th>76</th>\n      <td>6.8</td>\n      <td>2.8</td>\n      <td>4.8</td>\n      <td>1.4</td>\n      <td>versicolor</td>\n    </tr>\n  </tbody>\n</table>\n</div>"
     },
     "execution_count": 26,
     "metadata": {},
     "output_type": "execute_result"
    }
   ],
   "source": [
    "train_data.head()"
   ]
  },
  {
   "cell_type": "code",
   "execution_count": 27,
   "metadata": {},
   "outputs": [
    {
     "data": {
      "text/plain": "    sepal_length  sepal_width  petal_length  petal_width species\n1            4.9          3.0           1.4          0.2  setosa\n14           5.8          4.0           1.2          0.2  setosa\n20           5.4          3.4           1.7          0.2  setosa\n21           5.1          3.7           1.5          0.4  setosa\n37           4.9          3.6           1.4          0.1  setosa",
      "text/html": "<div>\n<style scoped>\n    .dataframe tbody tr th:only-of-type {\n        vertical-align: middle;\n    }\n\n    .dataframe tbody tr th {\n        vertical-align: top;\n    }\n\n    .dataframe thead th {\n        text-align: right;\n    }\n</style>\n<table border=\"1\" class=\"dataframe\">\n  <thead>\n    <tr style=\"text-align: right;\">\n      <th></th>\n      <th>sepal_length</th>\n      <th>sepal_width</th>\n      <th>petal_length</th>\n      <th>petal_width</th>\n      <th>species</th>\n    </tr>\n  </thead>\n  <tbody>\n    <tr>\n      <th>1</th>\n      <td>4.9</td>\n      <td>3.0</td>\n      <td>1.4</td>\n      <td>0.2</td>\n      <td>setosa</td>\n    </tr>\n    <tr>\n      <th>14</th>\n      <td>5.8</td>\n      <td>4.0</td>\n      <td>1.2</td>\n      <td>0.2</td>\n      <td>setosa</td>\n    </tr>\n    <tr>\n      <th>20</th>\n      <td>5.4</td>\n      <td>3.4</td>\n      <td>1.7</td>\n      <td>0.2</td>\n      <td>setosa</td>\n    </tr>\n    <tr>\n      <th>21</th>\n      <td>5.1</td>\n      <td>3.7</td>\n      <td>1.5</td>\n      <td>0.4</td>\n      <td>setosa</td>\n    </tr>\n    <tr>\n      <th>37</th>\n      <td>4.9</td>\n      <td>3.6</td>\n      <td>1.4</td>\n      <td>0.1</td>\n      <td>setosa</td>\n    </tr>\n  </tbody>\n</table>\n</div>"
     },
     "execution_count": 27,
     "metadata": {},
     "output_type": "execute_result"
    }
   ],
   "source": [
    "test_data.head()"
   ]
  },
  {
   "cell_type": "code",
   "execution_count": 28,
   "metadata": {},
   "outputs": [
    {
     "data": {
      "text/plain": "array(['setosa', 'versicolor', 'virginica'], dtype=object)"
     },
     "execution_count": 28,
     "metadata": {},
     "output_type": "execute_result"
    }
   ],
   "source": [
    "target_classes_train = np.sort(train_data[TARGET_NAME].unique())\n",
    "target_classes_test = np.sort(test_data[TARGET_NAME].unique())\n",
    "target_classes_train"
   ]
  },
  {
   "cell_type": "code",
   "execution_count": 29,
   "metadata": {},
   "outputs": [
    {
     "data": {
      "text/plain": "array(['setosa', 'versicolor', 'virginica'], dtype=object)"
     },
     "execution_count": 29,
     "metadata": {},
     "output_type": "execute_result"
    }
   ],
   "source": [
    "target_classes_test"
   ]
  },
  {
   "cell_type": "code",
   "execution_count": 30,
   "metadata": {
    "collapsed": false
   },
   "outputs": [
    {
     "data": {
      "text/plain": "     sepal_length  sepal_width  petal_length  petal_width  species\n73            6.1          2.8           4.7          1.2        1\n18            5.7          3.8           1.7          0.3        0\n118           7.7          2.6           6.9          2.3        2\n78            6.0          2.9           4.5          1.5        1\n76            6.8          2.8           4.8          1.4        1",
      "text/html": "<div>\n<style scoped>\n    .dataframe tbody tr th:only-of-type {\n        vertical-align: middle;\n    }\n\n    .dataframe tbody tr th {\n        vertical-align: top;\n    }\n\n    .dataframe thead th {\n        text-align: right;\n    }\n</style>\n<table border=\"1\" class=\"dataframe\">\n  <thead>\n    <tr style=\"text-align: right;\">\n      <th></th>\n      <th>sepal_length</th>\n      <th>sepal_width</th>\n      <th>petal_length</th>\n      <th>petal_width</th>\n      <th>species</th>\n    </tr>\n  </thead>\n  <tbody>\n    <tr>\n      <th>73</th>\n      <td>6.1</td>\n      <td>2.8</td>\n      <td>4.7</td>\n      <td>1.2</td>\n      <td>1</td>\n    </tr>\n    <tr>\n      <th>18</th>\n      <td>5.7</td>\n      <td>3.8</td>\n      <td>1.7</td>\n      <td>0.3</td>\n      <td>0</td>\n    </tr>\n    <tr>\n      <th>118</th>\n      <td>7.7</td>\n      <td>2.6</td>\n      <td>6.9</td>\n      <td>2.3</td>\n      <td>2</td>\n    </tr>\n    <tr>\n      <th>78</th>\n      <td>6.0</td>\n      <td>2.9</td>\n      <td>4.5</td>\n      <td>1.5</td>\n      <td>1</td>\n    </tr>\n    <tr>\n      <th>76</th>\n      <td>6.8</td>\n      <td>2.8</td>\n      <td>4.8</td>\n      <td>1.4</td>\n      <td>1</td>\n    </tr>\n  </tbody>\n</table>\n</div>"
     },
     "execution_count": 30,
     "metadata": {},
     "output_type": "execute_result"
    }
   ],
   "source": [
    "train_data[TARGET_NAME] = train_data[TARGET_NAME].replace(target_classes_train, np.arange(target_classes_train.size))\n",
    "test_data[TARGET_NAME] = test_data[TARGET_NAME].replace(target_classes_test, np.arange(target_classes_test.size))\n",
    "train_data.head()"
   ]
  },
  {
   "cell_type": "code",
   "execution_count": 31,
   "metadata": {
    "collapsed": false
   },
   "outputs": [],
   "source": [
    "train_ds = nn.data.Dataset(train_data, TARGET_NAME, [], NUM_VARIABLES)\n",
    "test_ds = nn.data.Dataset(test_data, TARGET_NAME, [], NUM_VARIABLES)"
   ]
  },
  {
   "cell_type": "code",
   "execution_count": 32,
   "metadata": {
    "collapsed": false
   },
   "outputs": [],
   "source": [
    "model = nn.models.Sequential([\n",
    "    nn.layers.core.Input((1, train_ds.num_of_features())),\n",
    "    nn.layers.core.Dense(30, activation='relu'),\n",
    "    nn.layers.core.Dense(3, activation='softmax')\n",
    "])"
   ]
  },
  {
   "cell_type": "code",
   "execution_count": 33,
   "metadata": {
    "collapsed": false
   },
   "outputs": [],
   "source": [
    "model.compile(optimizer=nn.optimizers.SGD(lr=0.01, momentum=0.9),\n",
    "              loss=nn.losses.CategoricalCrossEntropy(),\n",
    "              metrics=['accuracy'])"
   ]
  },
  {
   "cell_type": "code",
   "execution_count": 34,
   "metadata": {
    "collapsed": false
   },
   "outputs": [],
   "source": [
    "train_ds.batch(16)"
   ]
  },
  {
   "cell_type": "code",
   "execution_count": 35,
   "metadata": {
    "collapsed": false
   },
   "outputs": [
    {
     "name": "stdout",
     "output_type": "stream",
     "text": [
      "Epoch 1/250:\n",
      "0.003s - accuracy: 0.070 - loss: 1.136\n",
      "Epoch 2/250:\n",
      "0.010s - accuracy: 0.070 - loss: 1.130\n",
      "Epoch 3/250:\n",
      "0.005s - accuracy: 0.328 - loss: 1.114\n",
      "Epoch 4/250:\n",
      "0.004s - accuracy: 0.492 - loss: 1.099\n",
      "Epoch 5/250:\n",
      "0.003s - accuracy: 0.516 - loss: 1.081\n",
      "Epoch 6/250:\n",
      "0.002s - accuracy: 0.523 - loss: 1.067\n",
      "Epoch 7/250:\n",
      "0.003s - accuracy: 0.547 - loss: 1.051\n",
      "Epoch 8/250:\n",
      "0.002s - accuracy: 0.547 - loss: 1.032\n",
      "Epoch 9/250:\n",
      "0.002s - accuracy: 0.539 - loss: 1.018\n",
      "Epoch 10/250:\n",
      "0.002s - accuracy: 0.562 - loss: 1.001\n",
      "Epoch 11/250:\n",
      "0.002s - accuracy: 0.578 - loss: 0.982\n",
      "Epoch 12/250:\n",
      "0.002s - accuracy: 0.570 - loss: 0.967\n",
      "Epoch 13/250:\n",
      "0.002s - accuracy: 0.609 - loss: 0.947\n",
      "Epoch 14/250:\n",
      "0.002s - accuracy: 0.625 - loss: 0.941\n",
      "Epoch 15/250:\n",
      "0.002s - accuracy: 0.727 - loss: 0.926\n",
      "Epoch 16/250:\n",
      "0.003s - accuracy: 0.805 - loss: 0.899\n",
      "Epoch 17/250:\n",
      "0.002s - accuracy: 0.852 - loss: 0.878\n",
      "Epoch 18/250:\n",
      "0.002s - accuracy: 0.805 - loss: 0.874\n",
      "Epoch 19/250:\n",
      "0.002s - accuracy: 0.836 - loss: 0.854\n",
      "Epoch 20/250:\n",
      "0.001s - accuracy: 0.836 - loss: 0.834\n",
      "Epoch 21/250:\n",
      "0.001s - accuracy: 0.812 - loss: 0.822\n",
      "Epoch 22/250:\n",
      "0.001s - accuracy: 0.805 - loss: 0.805\n",
      "Epoch 23/250:\n",
      "0.003s - accuracy: 0.812 - loss: 0.780\n",
      "Epoch 24/250:\n",
      "0.001s - accuracy: 0.797 - loss: 0.775\n",
      "Epoch 25/250:\n",
      "0.002s - accuracy: 0.805 - loss: 0.755\n",
      "Epoch 26/250:\n",
      "0.001s - accuracy: 0.805 - loss: 0.750\n",
      "Epoch 27/250:\n",
      "0.004s - accuracy: 0.797 - loss: 0.717\n",
      "Epoch 28/250:\n",
      "0.002s - accuracy: 0.812 - loss: 0.722\n",
      "Epoch 29/250:\n",
      "0.001s - accuracy: 0.820 - loss: 0.705\n",
      "Epoch 30/250:\n",
      "0.002s - accuracy: 0.805 - loss: 0.684\n",
      "Epoch 31/250:\n",
      "0.001s - accuracy: 0.797 - loss: 0.674\n",
      "Epoch 32/250:\n",
      "0.001s - accuracy: 0.812 - loss: 0.669\n",
      "Epoch 33/250:\n",
      "0.001s - accuracy: 0.789 - loss: 0.665\n",
      "Epoch 34/250:\n",
      "0.001s - accuracy: 0.797 - loss: 0.641\n",
      "Epoch 35/250:\n",
      "0.022s - accuracy: 0.773 - loss: 0.654\n",
      "Epoch 36/250:\n",
      "0.002s - accuracy: 0.812 - loss: 0.630\n",
      "Epoch 37/250:\n",
      "0.002s - accuracy: 0.812 - loss: 0.606\n",
      "Epoch 38/250:\n",
      "0.001s - accuracy: 0.797 - loss: 0.617\n",
      "Epoch 39/250:\n",
      "0.001s - accuracy: 0.805 - loss: 0.590\n",
      "Epoch 40/250:\n",
      "0.001s - accuracy: 0.789 - loss: 0.594\n",
      "Epoch 41/250:\n",
      "0.001s - accuracy: 0.805 - loss: 0.580\n",
      "Epoch 42/250:\n",
      "0.002s - accuracy: 0.820 - loss: 0.582\n",
      "Epoch 43/250:\n",
      "0.001s - accuracy: 0.820 - loss: 0.569\n",
      "Epoch 44/250:\n",
      "0.001s - accuracy: 0.812 - loss: 0.556\n",
      "Epoch 45/250:\n",
      "0.002s - accuracy: 0.805 - loss: 0.559\n",
      "Epoch 46/250:\n",
      "0.001s - accuracy: 0.820 - loss: 0.530\n",
      "Epoch 47/250:\n",
      "0.002s - accuracy: 0.812 - loss: 0.542\n",
      "Epoch 48/250:\n",
      "0.002s - accuracy: 0.812 - loss: 0.537\n",
      "Epoch 49/250:\n",
      "0.001s - accuracy: 0.805 - loss: 0.535\n",
      "Epoch 50/250:\n",
      "0.001s - accuracy: 0.812 - loss: 0.526\n",
      "Epoch 51/250:\n",
      "0.001s - accuracy: 0.820 - loss: 0.511\n",
      "Epoch 52/250:\n",
      "0.001s - accuracy: 0.797 - loss: 0.521\n",
      "Epoch 53/250:\n",
      "0.001s - accuracy: 0.812 - loss: 0.509\n",
      "Epoch 54/250:\n",
      "0.004s - accuracy: 0.820 - loss: 0.494\n",
      "Epoch 55/250:\n",
      "0.002s - accuracy: 0.820 - loss: 0.488\n",
      "Epoch 56/250:\n",
      "0.001s - accuracy: 0.812 - loss: 0.490\n",
      "Epoch 57/250:\n",
      "0.002s - accuracy: 0.812 - loss: 0.491\n",
      "Epoch 58/250:\n",
      "0.001s - accuracy: 0.820 - loss: 0.488\n",
      "Epoch 59/250:\n",
      "0.001s - accuracy: 0.836 - loss: 0.474\n",
      "Epoch 60/250:\n",
      "0.002s - accuracy: 0.828 - loss: 0.482\n",
      "Epoch 61/250:\n",
      "0.001s - accuracy: 0.844 - loss: 0.466\n",
      "Epoch 62/250:\n",
      "0.001s - accuracy: 0.844 - loss: 0.459\n",
      "Epoch 63/250:\n",
      "0.001s - accuracy: 0.852 - loss: 0.445\n",
      "Epoch 64/250:\n",
      "0.001s - accuracy: 0.844 - loss: 0.458\n",
      "Epoch 65/250:\n",
      "0.001s - accuracy: 0.836 - loss: 0.452\n",
      "Epoch 66/250:\n",
      "0.003s - accuracy: 0.844 - loss: 0.444\n",
      "Epoch 67/250:\n",
      "0.002s - accuracy: 0.836 - loss: 0.456\n",
      "Epoch 68/250:\n",
      "0.001s - accuracy: 0.836 - loss: 0.445\n",
      "Epoch 69/250:\n",
      "0.002s - accuracy: 0.844 - loss: 0.444\n",
      "Epoch 70/250:\n",
      "0.001s - accuracy: 0.836 - loss: 0.447\n",
      "Epoch 71/250:\n",
      "0.001s - accuracy: 0.844 - loss: 0.432\n",
      "Epoch 72/250:\n",
      "0.001s - accuracy: 0.836 - loss: 0.426\n",
      "Epoch 73/250:\n",
      "0.001s - accuracy: 0.852 - loss: 0.427\n",
      "Epoch 74/250:\n",
      "0.002s - accuracy: 0.844 - loss: 0.420\n",
      "Epoch 75/250:\n",
      "0.001s - accuracy: 0.859 - loss: 0.412\n",
      "Epoch 76/250:\n",
      "0.001s - accuracy: 0.844 - loss: 0.409\n",
      "Epoch 77/250:\n",
      "0.001s - accuracy: 0.852 - loss: 0.414\n",
      "Epoch 78/250:\n",
      "0.002s - accuracy: 0.852 - loss: 0.402\n",
      "Epoch 79/250:\n",
      "0.003s - accuracy: 0.852 - loss: 0.401\n",
      "Epoch 80/250:\n",
      "0.001s - accuracy: 0.859 - loss: 0.396\n",
      "Epoch 81/250:\n",
      "0.001s - accuracy: 0.844 - loss: 0.402\n",
      "Epoch 82/250:\n",
      "0.002s - accuracy: 0.852 - loss: 0.400\n",
      "Epoch 83/250:\n",
      "0.001s - accuracy: 0.859 - loss: 0.401\n",
      "Epoch 84/250:\n",
      "0.002s - accuracy: 0.852 - loss: 0.388\n",
      "Epoch 85/250:\n",
      "0.001s - accuracy: 0.859 - loss: 0.389\n",
      "Epoch 86/250:\n",
      "0.001s - accuracy: 0.867 - loss: 0.375\n",
      "Epoch 87/250:\n",
      "0.001s - accuracy: 0.859 - loss: 0.378\n",
      "Epoch 88/250:\n",
      "0.001s - accuracy: 0.867 - loss: 0.377\n",
      "Epoch 89/250:\n",
      "0.002s - accuracy: 0.859 - loss: 0.381\n",
      "Epoch 90/250:\n",
      "0.002s - accuracy: 0.867 - loss: 0.384\n",
      "Epoch 91/250:\n",
      "0.001s - accuracy: 0.859 - loss: 0.376\n",
      "Epoch 92/250:\n",
      "0.001s - accuracy: 0.859 - loss: 0.369\n",
      "Epoch 93/250:\n",
      "0.001s - accuracy: 0.867 - loss: 0.364\n",
      "Epoch 94/250:\n",
      "0.002s - accuracy: 0.867 - loss: 0.368\n",
      "Epoch 95/250:\n",
      "0.001s - accuracy: 0.875 - loss: 0.356\n",
      "Epoch 96/250:\n",
      "0.001s - accuracy: 0.867 - loss: 0.356\n",
      "Epoch 97/250:\n",
      "0.001s - accuracy: 0.867 - loss: 0.359\n",
      "Epoch 98/250:\n",
      "0.002s - accuracy: 0.875 - loss: 0.340\n",
      "Epoch 99/250:\n",
      "0.002s - accuracy: 0.883 - loss: 0.353\n",
      "Epoch 100/250:\n",
      "0.002s - accuracy: 0.883 - loss: 0.349\n",
      "Epoch 101/250:\n",
      "0.002s - accuracy: 0.859 - loss: 0.354\n",
      "Epoch 102/250:\n",
      "0.001s - accuracy: 0.875 - loss: 0.343\n",
      "Epoch 103/250:\n",
      "0.002s - accuracy: 0.891 - loss: 0.335\n",
      "Epoch 104/250:\n",
      "0.004s - accuracy: 0.891 - loss: 0.338\n",
      "Epoch 105/250:\n",
      "0.002s - accuracy: 0.891 - loss: 0.336\n",
      "Epoch 106/250:\n",
      "0.003s - accuracy: 0.883 - loss: 0.322\n",
      "Epoch 107/250:\n",
      "0.002s - accuracy: 0.883 - loss: 0.340\n",
      "Epoch 108/250:\n",
      "0.002s - accuracy: 0.875 - loss: 0.339\n",
      "Epoch 109/250:\n",
      "0.001s - accuracy: 0.883 - loss: 0.320\n",
      "Epoch 110/250:\n",
      "0.001s - accuracy: 0.883 - loss: 0.320\n",
      "Epoch 111/250:\n",
      "0.001s - accuracy: 0.875 - loss: 0.329\n",
      "Epoch 112/250:\n",
      "0.001s - accuracy: 0.883 - loss: 0.329\n",
      "Epoch 113/250:\n",
      "0.001s - accuracy: 0.883 - loss: 0.325\n",
      "Epoch 114/250:\n",
      "0.001s - accuracy: 0.867 - loss: 0.331\n",
      "Epoch 115/250:\n",
      "0.024s - accuracy: 0.891 - loss: 0.311\n",
      "Epoch 116/250:\n",
      "0.002s - accuracy: 0.883 - loss: 0.314\n",
      "Epoch 117/250:\n",
      "0.001s - accuracy: 0.883 - loss: 0.311\n",
      "Epoch 118/250:\n",
      "0.001s - accuracy: 0.867 - loss: 0.326\n",
      "Epoch 119/250:\n",
      "0.001s - accuracy: 0.891 - loss: 0.296\n",
      "Epoch 120/250:\n",
      "0.001s - accuracy: 0.883 - loss: 0.306\n",
      "Epoch 121/250:\n",
      "0.002s - accuracy: 0.891 - loss: 0.290\n",
      "Epoch 122/250:\n",
      "0.001s - accuracy: 0.891 - loss: 0.292\n",
      "Epoch 123/250:\n",
      "0.002s - accuracy: 0.883 - loss: 0.299\n",
      "Epoch 124/250:\n",
      "0.001s - accuracy: 0.898 - loss: 0.301\n",
      "Epoch 125/250:\n",
      "0.001s - accuracy: 0.891 - loss: 0.296\n",
      "Epoch 126/250:\n",
      "0.001s - accuracy: 0.891 - loss: 0.283\n",
      "Epoch 127/250:\n",
      "0.002s - accuracy: 0.891 - loss: 0.288\n",
      "Epoch 128/250:\n",
      "0.001s - accuracy: 0.891 - loss: 0.284\n",
      "Epoch 129/250:\n",
      "0.001s - accuracy: 0.883 - loss: 0.289\n",
      "Epoch 130/250:\n",
      "0.001s - accuracy: 0.898 - loss: 0.286\n",
      "Epoch 131/250:\n",
      "0.001s - accuracy: 0.875 - loss: 0.288\n",
      "Epoch 132/250:\n",
      "0.042s - accuracy: 0.875 - loss: 0.288\n",
      "Epoch 133/250:\n",
      "0.007s - accuracy: 0.891 - loss: 0.285\n",
      "Epoch 134/250:\n",
      "0.003s - accuracy: 0.875 - loss: 0.294\n",
      "Epoch 135/250:\n",
      "0.003s - accuracy: 0.891 - loss: 0.287\n",
      "Epoch 136/250:\n",
      "0.023s - accuracy: 0.898 - loss: 0.275\n",
      "Epoch 137/250:\n",
      "0.005s - accuracy: 0.891 - loss: 0.280\n",
      "Epoch 138/250:\n",
      "0.005s - accuracy: 0.883 - loss: 0.282\n",
      "Epoch 139/250:\n",
      "0.004s - accuracy: 0.883 - loss: 0.291\n",
      "Epoch 140/250:\n",
      "0.002s - accuracy: 0.875 - loss: 0.285\n",
      "Epoch 141/250:\n",
      "0.001s - accuracy: 0.891 - loss: 0.275\n",
      "Epoch 142/250:\n",
      "0.001s - accuracy: 0.906 - loss: 0.271\n",
      "Epoch 143/250:\n",
      "0.001s - accuracy: 0.906 - loss: 0.264\n",
      "Epoch 144/250:\n",
      "0.002s - accuracy: 0.906 - loss: 0.260\n",
      "Epoch 145/250:\n",
      "0.001s - accuracy: 0.906 - loss: 0.255\n",
      "Epoch 146/250:\n",
      "0.001s - accuracy: 0.898 - loss: 0.266\n",
      "Epoch 147/250:\n",
      "0.001s - accuracy: 0.898 - loss: 0.269\n",
      "Epoch 148/250:\n",
      "0.001s - accuracy: 0.906 - loss: 0.262\n",
      "Epoch 149/250:\n",
      "0.001s - accuracy: 0.898 - loss: 0.260\n",
      "Epoch 150/250:\n",
      "0.001s - accuracy: 0.906 - loss: 0.248\n",
      "Epoch 151/250:\n",
      "0.001s - accuracy: 0.898 - loss: 0.262\n",
      "Epoch 152/250:\n",
      "0.002s - accuracy: 0.906 - loss: 0.257\n",
      "Epoch 153/250:\n",
      "0.002s - accuracy: 0.906 - loss: 0.255\n",
      "Epoch 154/250:\n",
      "0.001s - accuracy: 0.883 - loss: 0.268\n",
      "Epoch 155/250:\n",
      "0.001s - accuracy: 0.898 - loss: 0.258\n",
      "Epoch 156/250:\n",
      "0.001s - accuracy: 0.906 - loss: 0.249\n",
      "Epoch 157/250:\n",
      "0.003s - accuracy: 0.898 - loss: 0.252\n",
      "Epoch 158/250:\n",
      "0.001s - accuracy: 0.906 - loss: 0.243\n",
      "Epoch 159/250:\n",
      "0.001s - accuracy: 0.922 - loss: 0.245\n",
      "Epoch 160/250:\n",
      "0.001s - accuracy: 0.898 - loss: 0.250\n",
      "Epoch 161/250:\n",
      "0.001s - accuracy: 0.906 - loss: 0.246\n",
      "Epoch 162/250:\n",
      "0.001s - accuracy: 0.922 - loss: 0.244\n",
      "Epoch 163/250:\n",
      "0.002s - accuracy: 0.906 - loss: 0.248\n",
      "Epoch 164/250:\n",
      "0.001s - accuracy: 0.922 - loss: 0.233\n",
      "Epoch 165/250:\n",
      "0.001s - accuracy: 0.914 - loss: 0.244\n",
      "Epoch 166/250:\n",
      "0.001s - accuracy: 0.922 - loss: 0.238\n",
      "Epoch 167/250:\n",
      "0.004s - accuracy: 0.922 - loss: 0.245\n",
      "Epoch 168/250:\n",
      "0.003s - accuracy: 0.914 - loss: 0.243\n",
      "Epoch 169/250:\n",
      "0.001s - accuracy: 0.922 - loss: 0.229\n",
      "Epoch 170/250:\n",
      "0.002s - accuracy: 0.906 - loss: 0.249\n",
      "Epoch 171/250:\n",
      "0.002s - accuracy: 0.922 - loss: 0.227\n",
      "Epoch 172/250:\n",
      "0.001s - accuracy: 0.922 - loss: 0.231\n",
      "Epoch 173/250:\n",
      "0.001s - accuracy: 0.914 - loss: 0.229\n",
      "Epoch 174/250:\n",
      "0.001s - accuracy: 0.922 - loss: 0.228\n",
      "Epoch 175/250:\n",
      "0.002s - accuracy: 0.914 - loss: 0.226\n",
      "Epoch 176/250:\n",
      "0.001s - accuracy: 0.922 - loss: 0.224\n",
      "Epoch 177/250:\n",
      "0.001s - accuracy: 0.914 - loss: 0.226\n",
      "Epoch 178/250:\n",
      "0.001s - accuracy: 0.914 - loss: 0.228\n",
      "Epoch 179/250:\n",
      "0.026s - accuracy: 0.906 - loss: 0.235\n",
      "Epoch 180/250:\n",
      "0.001s - accuracy: 0.906 - loss: 0.234\n",
      "Epoch 181/250:\n",
      "0.001s - accuracy: 0.938 - loss: 0.220\n",
      "Epoch 182/250:\n",
      "0.001s - accuracy: 0.922 - loss: 0.228\n",
      "Epoch 183/250:\n",
      "0.001s - accuracy: 0.930 - loss: 0.225\n",
      "Epoch 184/250:\n",
      "0.002s - accuracy: 0.930 - loss: 0.222\n",
      "Epoch 185/250:\n",
      "0.002s - accuracy: 0.930 - loss: 0.221\n",
      "Epoch 186/250:\n",
      "0.001s - accuracy: 0.930 - loss: 0.227\n",
      "Epoch 187/250:\n",
      "0.001s - accuracy: 0.930 - loss: 0.226\n",
      "Epoch 188/250:\n",
      "0.001s - accuracy: 0.938 - loss: 0.221\n",
      "Epoch 189/250:\n",
      "0.002s - accuracy: 0.922 - loss: 0.218\n",
      "Epoch 190/250:\n",
      "0.001s - accuracy: 0.930 - loss: 0.217\n",
      "Epoch 191/250:\n",
      "0.001s - accuracy: 0.930 - loss: 0.213\n",
      "Epoch 192/250:\n",
      "0.001s - accuracy: 0.938 - loss: 0.218\n",
      "Epoch 193/250:\n",
      "0.001s - accuracy: 0.938 - loss: 0.213\n",
      "Epoch 194/250:\n",
      "0.002s - accuracy: 0.938 - loss: 0.208\n",
      "Epoch 195/250:\n",
      "0.001s - accuracy: 0.938 - loss: 0.208\n",
      "Epoch 196/250:\n",
      "0.003s - accuracy: 0.922 - loss: 0.210\n",
      "Epoch 197/250:\n",
      "0.002s - accuracy: 0.922 - loss: 0.212\n",
      "Epoch 198/250:\n",
      "0.002s - accuracy: 0.922 - loss: 0.218\n",
      "Epoch 199/250:\n",
      "0.001s - accuracy: 0.945 - loss: 0.202\n",
      "Epoch 200/250:\n",
      "0.001s - accuracy: 0.938 - loss: 0.202\n",
      "Epoch 201/250:\n",
      "0.001s - accuracy: 0.945 - loss: 0.202\n",
      "Epoch 202/250:\n",
      "0.001s - accuracy: 0.930 - loss: 0.198\n",
      "Epoch 203/250:\n",
      "0.002s - accuracy: 0.930 - loss: 0.206\n",
      "Epoch 204/250:\n",
      "0.002s - accuracy: 0.930 - loss: 0.208\n",
      "Epoch 205/250:\n",
      "0.001s - accuracy: 0.938 - loss: 0.195\n",
      "Epoch 206/250:\n",
      "0.002s - accuracy: 0.930 - loss: 0.208\n",
      "Epoch 207/250:\n",
      "0.002s - accuracy: 0.938 - loss: 0.193\n",
      "Epoch 208/250:\n",
      "0.002s - accuracy: 0.938 - loss: 0.190\n",
      "Epoch 209/250:\n",
      "0.001s - accuracy: 0.938 - loss: 0.200\n",
      "Epoch 210/250:\n",
      "0.001s - accuracy: 0.938 - loss: 0.199\n",
      "Epoch 211/250:\n",
      "0.002s - accuracy: 0.945 - loss: 0.197\n",
      "Epoch 212/250:\n",
      "0.001s - accuracy: 0.945 - loss: 0.197\n",
      "Epoch 213/250:\n",
      "0.001s - accuracy: 0.938 - loss: 0.200\n",
      "Epoch 214/250:\n",
      "0.001s - accuracy: 0.953 - loss: 0.201\n",
      "Epoch 215/250:\n",
      "0.001s - accuracy: 0.953 - loss: 0.198\n",
      "Epoch 216/250:\n",
      "0.002s - accuracy: 0.945 - loss: 0.195\n",
      "Epoch 217/250:\n",
      "0.001s - accuracy: 0.969 - loss: 0.201\n",
      "Epoch 218/250:\n",
      "0.001s - accuracy: 0.961 - loss: 0.196\n",
      "Epoch 219/250:\n",
      "0.001s - accuracy: 0.953 - loss: 0.201\n",
      "Epoch 220/250:\n",
      "0.001s - accuracy: 0.961 - loss: 0.184\n",
      "Epoch 221/250:\n",
      "0.002s - accuracy: 0.961 - loss: 0.192\n",
      "Epoch 222/250:\n",
      "0.001s - accuracy: 0.961 - loss: 0.183\n",
      "Epoch 223/250:\n",
      "0.001s - accuracy: 0.961 - loss: 0.190\n",
      "Epoch 224/250:\n",
      "0.001s - accuracy: 0.961 - loss: 0.192\n",
      "Epoch 225/250:\n",
      "0.001s - accuracy: 0.961 - loss: 0.190\n",
      "Epoch 226/250:\n",
      "0.002s - accuracy: 0.961 - loss: 0.180\n",
      "Epoch 227/250:\n",
      "0.002s - accuracy: 0.961 - loss: 0.193\n",
      "Epoch 228/250:\n",
      "0.001s - accuracy: 0.961 - loss: 0.180\n",
      "Epoch 229/250:\n",
      "0.001s - accuracy: 0.961 - loss: 0.180\n",
      "Epoch 230/250:\n",
      "0.001s - accuracy: 0.961 - loss: 0.182\n",
      "Epoch 231/250:\n",
      "0.002s - accuracy: 0.945 - loss: 0.187\n",
      "Epoch 232/250:\n",
      "0.001s - accuracy: 0.953 - loss: 0.191\n",
      "Epoch 233/250:\n",
      "0.002s - accuracy: 0.961 - loss: 0.178\n",
      "Epoch 234/250:\n",
      "0.001s - accuracy: 0.961 - loss: 0.177\n",
      "Epoch 235/250:\n",
      "0.001s - accuracy: 0.961 - loss: 0.176\n",
      "Epoch 236/250:\n",
      "0.002s - accuracy: 0.953 - loss: 0.181\n",
      "Epoch 237/250:\n",
      "0.001s - accuracy: 0.961 - loss: 0.175\n",
      "Epoch 238/250:\n",
      "0.003s - accuracy: 0.961 - loss: 0.178\n",
      "Epoch 239/250:\n",
      "0.001s - accuracy: 0.961 - loss: 0.182\n",
      "Epoch 240/250:\n",
      "0.002s - accuracy: 0.961 - loss: 0.182\n",
      "Epoch 241/250:\n",
      "0.001s - accuracy: 0.961 - loss: 0.172\n",
      "Epoch 242/250:\n",
      "0.001s - accuracy: 0.945 - loss: 0.179\n",
      "Epoch 243/250:\n",
      "0.001s - accuracy: 0.953 - loss: 0.170\n",
      "Epoch 244/250:\n",
      "0.001s - accuracy: 0.953 - loss: 0.167\n",
      "Epoch 245/250:\n",
      "0.002s - accuracy: 0.945 - loss: 0.179\n",
      "Epoch 246/250:\n",
      "0.001s - accuracy: 0.945 - loss: 0.182\n",
      "Epoch 247/250:\n",
      "0.001s - accuracy: 0.953 - loss: 0.170\n",
      "Epoch 248/250:\n",
      "0.001s - accuracy: 0.953 - loss: 0.169\n",
      "Epoch 249/250:\n",
      "0.002s - accuracy: 0.945 - loss: 0.172\n",
      "Epoch 250/250:\n",
      "0.002s - accuracy: 0.945 - loss: 0.172\n"
     ]
    }
   ],
   "source": [
    "history = model.fit(train_ds,\n",
    "          epochs=250)"
   ]
  },
  {
   "cell_type": "code",
   "execution_count": 36,
   "metadata": {
    "collapsed": false
   },
   "outputs": [
    {
     "data": {
      "text/plain": "[<matplotlib.lines.Line2D at 0x7faff6059f00>]"
     },
     "execution_count": 36,
     "metadata": {},
     "output_type": "execute_result"
    },
    {
     "data": {
      "text/plain": "<Figure size 640x480 with 1 Axes>",
      "image/png": "[encoded data removed]"
     },
     "metadata": {},
     "output_type": "display_data"
    }
   ],
   "source": [
    "plt.plot(history.epochs, history.history['loss'])"
   ]
  },
  {
   "cell_type": "code",
   "execution_count": 37,
   "metadata": {
    "collapsed": false
   },
   "outputs": [
    {
     "data": {
      "text/plain": "[<matplotlib.lines.Line2D at 0x7faff6cc4ca0>]"
     },
     "execution_count": 37,
     "metadata": {},
     "output_type": "execute_result"
    },
    {
     "data": {
      "text/plain": "<Figure size 640x480 with 1 Axes>",
      "image/png": "[encoded data removed]"
     },
     "metadata": {},
     "output_type": "display_data"
    }
   ],
   "source": [
    "plt.plot(history.epochs, history.history['accuracy'])"
   ]
  },
  {
   "cell_type": "code",
   "execution_count": 38,
   "metadata": {
    "collapsed": false
   },
   "outputs": [
    {
     "name": "stdout",
     "output_type": "stream",
     "text": [
      "Test set accuracy: 93%\n"
     ]
    }
   ],
   "source": [
    "y_pred = model.predict(test_ds.dataset.T)\n",
    "y_true = test_ds.target.T\n",
    "accuracy = nn.accuracy(y_true, y_pred)\n",
    "\n",
    "print(f'Test set accuracy: {accuracy:.0%}')"
   ]
  },
  {
   "cell_type": "code",
   "execution_count": 38,
   "outputs": [],
   "source": [],
   "metadata": {
    "collapsed": false
   }
  }
 ],
 "metadata": {
  "interpreter": {
   "hash": "f683e866da633316fc45c24f83e3fadb35ee149c9f6b5fec21b6b3b95d39e9b0"
  },
  "kernelspec": {
   "display_name": "Python 3.9.7 ('numpy-nn-ryL_BLtd-py3.9')",
   "language": "python",
   "name": "python3"
  },
  "language_info": {
   "codemirror_mode": {
    "name": "ipython",
    "version": 3
   },
   "file_extension": ".py",
   "mimetype": "text/x-python",
   "name": "python",
   "nbconvert_exporter": "python",
   "pygments_lexer": "ipython3",
   "version": "3.9.7"
  }
 },
 "nbformat": 4,
 "nbformat_minor": 0
}
