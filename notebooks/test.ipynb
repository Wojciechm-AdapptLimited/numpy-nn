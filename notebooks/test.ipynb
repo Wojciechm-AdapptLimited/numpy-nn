{
 "cells": [
  {
   "cell_type": "code",
   "execution_count": 162,
   "metadata": {
    "collapsed": false
   },
   "outputs": [
    {
     "name": "stdout",
     "output_type": "stream",
     "text": [
      "The autoreload extension is already loaded. To reload it, use:\n",
      "  %reload_ext autoreload\n"
     ]
    }
   ],
   "source": [
    "%load_ext autoreload\n",
    "%autoreload 2"
   ]
  },
  {
   "cell_type": "code",
   "execution_count": 163,
   "metadata": {
    "collapsed": false
   },
   "outputs": [],
   "source": [
    "import numpy as np\n",
    "import seaborn as sns\n",
    "import matplotlib.pyplot as plt\n",
    "import numpy_nn as nn"
   ]
  },
  {
   "cell_type": "code",
   "execution_count": 164,
   "metadata": {
    "collapsed": false
   },
   "outputs": [
    {
     "data": {
      "text/plain": "   sepal_length  sepal_width  petal_length  petal_width species\n0           5.1          3.5           1.4          0.2  setosa\n1           4.9          3.0           1.4          0.2  setosa\n2           4.7          3.2           1.3          0.2  setosa\n3           4.6          3.1           1.5          0.2  setosa\n4           5.0          3.6           1.4          0.2  setosa",
      "text/html": "<div>\n<style scoped>\n    .dataframe tbody tr th:only-of-type {\n        vertical-align: middle;\n    }\n\n    .dataframe tbody tr th {\n        vertical-align: top;\n    }\n\n    .dataframe thead th {\n        text-align: right;\n    }\n</style>\n<table border=\"1\" class=\"dataframe\">\n  <thead>\n    <tr style=\"text-align: right;\">\n      <th></th>\n      <th>sepal_length</th>\n      <th>sepal_width</th>\n      <th>petal_length</th>\n      <th>petal_width</th>\n      <th>species</th>\n    </tr>\n  </thead>\n  <tbody>\n    <tr>\n      <th>0</th>\n      <td>5.1</td>\n      <td>3.5</td>\n      <td>1.4</td>\n      <td>0.2</td>\n      <td>setosa</td>\n    </tr>\n    <tr>\n      <th>1</th>\n      <td>4.9</td>\n      <td>3.0</td>\n      <td>1.4</td>\n      <td>0.2</td>\n      <td>setosa</td>\n    </tr>\n    <tr>\n      <th>2</th>\n      <td>4.7</td>\n      <td>3.2</td>\n      <td>1.3</td>\n      <td>0.2</td>\n      <td>setosa</td>\n    </tr>\n    <tr>\n      <th>3</th>\n      <td>4.6</td>\n      <td>3.1</td>\n      <td>1.5</td>\n      <td>0.2</td>\n      <td>setosa</td>\n    </tr>\n    <tr>\n      <th>4</th>\n      <td>5.0</td>\n      <td>3.6</td>\n      <td>1.4</td>\n      <td>0.2</td>\n      <td>setosa</td>\n    </tr>\n  </tbody>\n</table>\n</div>"
     },
     "execution_count": 164,
     "metadata": {},
     "output_type": "execute_result"
    }
   ],
   "source": [
    "dataset = sns.load_dataset(\"iris\")\n",
    "dataset.head()"
   ]
  },
  {
   "cell_type": "code",
   "execution_count": 165,
   "metadata": {
    "collapsed": false
   },
   "outputs": [
    {
     "name": "stdout",
     "output_type": "stream",
     "text": [
      "Training set size: 90\n",
      "Validation set size: 30\n",
      "Test set size: 30\n"
     ]
    }
   ],
   "source": [
    "train_data, val_data, test_data = np.split(dataset.sample(frac=1, random_state=42), [int(.6 * len(dataset)), int(.8 * len(dataset))])\n",
    "print(f'Training set size: {len(train_data)}')\n",
    "print(f'Validation set size: {len(val_data)}')\n",
    "print(f'Test set size: {len(test_data)}')"
   ]
  },
  {
   "cell_type": "code",
   "execution_count": 166,
   "metadata": {
    "collapsed": false
   },
   "outputs": [],
   "source": [
    "TARGET_NAME = \"species\"\n",
    "NUM_VARIABLES = ['sepal_length', 'sepal_width', 'petal_length', 'petal_width']"
   ]
  },
  {
   "cell_type": "code",
   "execution_count": 167,
   "metadata": {
    "collapsed": false
   },
   "outputs": [
    {
     "data": {
      "text/plain": "     sepal_length  sepal_width  petal_length  petal_width     species\n73            6.1          2.8           4.7          1.2  versicolor\n18            5.7          3.8           1.7          0.3      setosa\n118           7.7          2.6           6.9          2.3   virginica\n78            6.0          2.9           4.5          1.5  versicolor\n76            6.8          2.8           4.8          1.4  versicolor",
      "text/html": "<div>\n<style scoped>\n    .dataframe tbody tr th:only-of-type {\n        vertical-align: middle;\n    }\n\n    .dataframe tbody tr th {\n        vertical-align: top;\n    }\n\n    .dataframe thead th {\n        text-align: right;\n    }\n</style>\n<table border=\"1\" class=\"dataframe\">\n  <thead>\n    <tr style=\"text-align: right;\">\n      <th></th>\n      <th>sepal_length</th>\n      <th>sepal_width</th>\n      <th>petal_length</th>\n      <th>petal_width</th>\n      <th>species</th>\n    </tr>\n  </thead>\n  <tbody>\n    <tr>\n      <th>73</th>\n      <td>6.1</td>\n      <td>2.8</td>\n      <td>4.7</td>\n      <td>1.2</td>\n      <td>versicolor</td>\n    </tr>\n    <tr>\n      <th>18</th>\n      <td>5.7</td>\n      <td>3.8</td>\n      <td>1.7</td>\n      <td>0.3</td>\n      <td>setosa</td>\n    </tr>\n    <tr>\n      <th>118</th>\n      <td>7.7</td>\n      <td>2.6</td>\n      <td>6.9</td>\n      <td>2.3</td>\n      <td>virginica</td>\n    </tr>\n    <tr>\n      <th>78</th>\n      <td>6.0</td>\n      <td>2.9</td>\n      <td>4.5</td>\n      <td>1.5</td>\n      <td>versicolor</td>\n    </tr>\n    <tr>\n      <th>76</th>\n      <td>6.8</td>\n      <td>2.8</td>\n      <td>4.8</td>\n      <td>1.4</td>\n      <td>versicolor</td>\n    </tr>\n  </tbody>\n</table>\n</div>"
     },
     "execution_count": 167,
     "metadata": {},
     "output_type": "execute_result"
    }
   ],
   "source": [
    "train_data.head()"
   ]
  },
  {
   "cell_type": "code",
   "execution_count": 168,
   "outputs": [
    {
     "data": {
      "text/plain": "     sepal_length  sepal_width  petal_length  petal_width     species\n98            5.1          2.5           3.0          1.1  versicolor\n120           6.9          3.2           5.7          2.3   virginica\n83            6.0          2.7           5.1          1.6  versicolor\n134           6.1          2.6           5.6          1.4   virginica\n135           7.7          3.0           6.1          2.3   virginica",
      "text/html": "<div>\n<style scoped>\n    .dataframe tbody tr th:only-of-type {\n        vertical-align: middle;\n    }\n\n    .dataframe tbody tr th {\n        vertical-align: top;\n    }\n\n    .dataframe thead th {\n        text-align: right;\n    }\n</style>\n<table border=\"1\" class=\"dataframe\">\n  <thead>\n    <tr style=\"text-align: right;\">\n      <th></th>\n      <th>sepal_length</th>\n      <th>sepal_width</th>\n      <th>petal_length</th>\n      <th>petal_width</th>\n      <th>species</th>\n    </tr>\n  </thead>\n  <tbody>\n    <tr>\n      <th>98</th>\n      <td>5.1</td>\n      <td>2.5</td>\n      <td>3.0</td>\n      <td>1.1</td>\n      <td>versicolor</td>\n    </tr>\n    <tr>\n      <th>120</th>\n      <td>6.9</td>\n      <td>3.2</td>\n      <td>5.7</td>\n      <td>2.3</td>\n      <td>virginica</td>\n    </tr>\n    <tr>\n      <th>83</th>\n      <td>6.0</td>\n      <td>2.7</td>\n      <td>5.1</td>\n      <td>1.6</td>\n      <td>versicolor</td>\n    </tr>\n    <tr>\n      <th>134</th>\n      <td>6.1</td>\n      <td>2.6</td>\n      <td>5.6</td>\n      <td>1.4</td>\n      <td>virginica</td>\n    </tr>\n    <tr>\n      <th>135</th>\n      <td>7.7</td>\n      <td>3.0</td>\n      <td>6.1</td>\n      <td>2.3</td>\n      <td>virginica</td>\n    </tr>\n  </tbody>\n</table>\n</div>"
     },
     "execution_count": 168,
     "metadata": {},
     "output_type": "execute_result"
    }
   ],
   "source": [
    "val_data.head()"
   ],
   "metadata": {
    "collapsed": false
   }
  },
  {
   "cell_type": "code",
   "execution_count": 169,
   "metadata": {},
   "outputs": [
    {
     "data": {
      "text/plain": "    sepal_length  sepal_width  petal_length  petal_width     species\n91           6.1          3.0           4.6          1.4  versicolor\n41           4.5          2.3           1.3          0.3      setosa\n58           6.6          2.9           4.6          1.3  versicolor\n90           5.5          2.6           4.4          1.2  versicolor\n48           5.3          3.7           1.5          0.2      setosa",
      "text/html": "<div>\n<style scoped>\n    .dataframe tbody tr th:only-of-type {\n        vertical-align: middle;\n    }\n\n    .dataframe tbody tr th {\n        vertical-align: top;\n    }\n\n    .dataframe thead th {\n        text-align: right;\n    }\n</style>\n<table border=\"1\" class=\"dataframe\">\n  <thead>\n    <tr style=\"text-align: right;\">\n      <th></th>\n      <th>sepal_length</th>\n      <th>sepal_width</th>\n      <th>petal_length</th>\n      <th>petal_width</th>\n      <th>species</th>\n    </tr>\n  </thead>\n  <tbody>\n    <tr>\n      <th>91</th>\n      <td>6.1</td>\n      <td>3.0</td>\n      <td>4.6</td>\n      <td>1.4</td>\n      <td>versicolor</td>\n    </tr>\n    <tr>\n      <th>41</th>\n      <td>4.5</td>\n      <td>2.3</td>\n      <td>1.3</td>\n      <td>0.3</td>\n      <td>setosa</td>\n    </tr>\n    <tr>\n      <th>58</th>\n      <td>6.6</td>\n      <td>2.9</td>\n      <td>4.6</td>\n      <td>1.3</td>\n      <td>versicolor</td>\n    </tr>\n    <tr>\n      <th>90</th>\n      <td>5.5</td>\n      <td>2.6</td>\n      <td>4.4</td>\n      <td>1.2</td>\n      <td>versicolor</td>\n    </tr>\n    <tr>\n      <th>48</th>\n      <td>5.3</td>\n      <td>3.7</td>\n      <td>1.5</td>\n      <td>0.2</td>\n      <td>setosa</td>\n    </tr>\n  </tbody>\n</table>\n</div>"
     },
     "execution_count": 169,
     "metadata": {},
     "output_type": "execute_result"
    }
   ],
   "source": [
    "test_data.head()"
   ]
  },
  {
   "cell_type": "code",
   "execution_count": 170,
   "metadata": {},
   "outputs": [
    {
     "data": {
      "text/plain": "array(['setosa', 'versicolor', 'virginica'], dtype=object)"
     },
     "execution_count": 170,
     "metadata": {},
     "output_type": "execute_result"
    }
   ],
   "source": [
    "target_classes_train = np.sort(train_data[TARGET_NAME].unique())\n",
    "target_classes_val = np.sort(val_data[TARGET_NAME].unique())\n",
    "target_classes_test = np.sort(test_data[TARGET_NAME].unique())\n",
    "target_classes_train"
   ]
  },
  {
   "cell_type": "code",
   "execution_count": 171,
   "outputs": [
    {
     "data": {
      "text/plain": "array(['setosa', 'versicolor', 'virginica'], dtype=object)"
     },
     "execution_count": 171,
     "metadata": {},
     "output_type": "execute_result"
    }
   ],
   "source": [
    "target_classes_val"
   ],
   "metadata": {
    "collapsed": false
   }
  },
  {
   "cell_type": "code",
   "execution_count": 172,
   "metadata": {},
   "outputs": [
    {
     "data": {
      "text/plain": "array(['setosa', 'versicolor', 'virginica'], dtype=object)"
     },
     "execution_count": 172,
     "metadata": {},
     "output_type": "execute_result"
    }
   ],
   "source": [
    "target_classes_test"
   ]
  },
  {
   "cell_type": "code",
   "execution_count": 173,
   "metadata": {
    "collapsed": false
   },
   "outputs": [
    {
     "data": {
      "text/plain": "     sepal_length  sepal_width  petal_length  petal_width  species\n73            6.1          2.8           4.7          1.2        1\n18            5.7          3.8           1.7          0.3        0\n118           7.7          2.6           6.9          2.3        2\n78            6.0          2.9           4.5          1.5        1\n76            6.8          2.8           4.8          1.4        1",
      "text/html": "<div>\n<style scoped>\n    .dataframe tbody tr th:only-of-type {\n        vertical-align: middle;\n    }\n\n    .dataframe tbody tr th {\n        vertical-align: top;\n    }\n\n    .dataframe thead th {\n        text-align: right;\n    }\n</style>\n<table border=\"1\" class=\"dataframe\">\n  <thead>\n    <tr style=\"text-align: right;\">\n      <th></th>\n      <th>sepal_length</th>\n      <th>sepal_width</th>\n      <th>petal_length</th>\n      <th>petal_width</th>\n      <th>species</th>\n    </tr>\n  </thead>\n  <tbody>\n    <tr>\n      <th>73</th>\n      <td>6.1</td>\n      <td>2.8</td>\n      <td>4.7</td>\n      <td>1.2</td>\n      <td>1</td>\n    </tr>\n    <tr>\n      <th>18</th>\n      <td>5.7</td>\n      <td>3.8</td>\n      <td>1.7</td>\n      <td>0.3</td>\n      <td>0</td>\n    </tr>\n    <tr>\n      <th>118</th>\n      <td>7.7</td>\n      <td>2.6</td>\n      <td>6.9</td>\n      <td>2.3</td>\n      <td>2</td>\n    </tr>\n    <tr>\n      <th>78</th>\n      <td>6.0</td>\n      <td>2.9</td>\n      <td>4.5</td>\n      <td>1.5</td>\n      <td>1</td>\n    </tr>\n    <tr>\n      <th>76</th>\n      <td>6.8</td>\n      <td>2.8</td>\n      <td>4.8</td>\n      <td>1.4</td>\n      <td>1</td>\n    </tr>\n  </tbody>\n</table>\n</div>"
     },
     "execution_count": 173,
     "metadata": {},
     "output_type": "execute_result"
    }
   ],
   "source": [
    "train_data[TARGET_NAME] = train_data[TARGET_NAME].replace(target_classes_train, np.arange(target_classes_train.size))\n",
    "val_data[TARGET_NAME] = val_data[TARGET_NAME].replace(target_classes_val, np.arange(target_classes_val.size))\n",
    "test_data[TARGET_NAME] = test_data[TARGET_NAME].replace(target_classes_test, np.arange(target_classes_test.size))\n",
    "train_data.head()"
   ]
  },
  {
   "cell_type": "code",
   "execution_count": 174,
   "metadata": {
    "collapsed": false
   },
   "outputs": [],
   "source": [
    "train_ds = nn.data.Dataset(train_data, TARGET_NAME, [], NUM_VARIABLES)\n",
    "val_ds = nn.data.Dataset(val_data, TARGET_NAME, [], NUM_VARIABLES)\n",
    "test_ds = nn.data.Dataset(test_data, TARGET_NAME, [], NUM_VARIABLES)"
   ]
  },
  {
   "cell_type": "code",
   "execution_count": 175,
   "metadata": {
    "collapsed": false
   },
   "outputs": [],
   "source": [
    "model = nn.models.Sequential([\n",
    "    nn.layers.core.Input((1, train_ds.num_of_features())),\n",
    "    nn.layers.core.Dense(30, activation='relu'),\n",
    "    nn.layers.core.Dense(3, activation='softmax')\n",
    "])"
   ]
  },
  {
   "cell_type": "code",
   "execution_count": 176,
   "metadata": {
    "collapsed": false
   },
   "outputs": [],
   "source": [
    "model.compile(optimizer=nn.optimizers.Adam(lr=0.001),\n",
    "              loss=nn.losses.CategoricalCrossEntropy(),\n",
    "              metrics=['accuracy', 'val_accuracy'])"
   ]
  },
  {
   "cell_type": "code",
   "execution_count": 177,
   "metadata": {
    "collapsed": false
   },
   "outputs": [],
   "source": [
    "train_ds.batch(16)\n",
    "val_ds.batch(16)"
   ]
  },
  {
   "cell_type": "code",
   "execution_count": 178,
   "metadata": {
    "collapsed": false
   },
   "outputs": [
    {
     "name": "stdout",
     "output_type": "stream",
     "text": [
      "Epoch 1/100:\n",
      "0.015s - accuracy: 0.283 - val_accuracy: 0.500 - loss: 1.101 - val_loss: 1.063\n",
      "Epoch 2/100:\n",
      "0.006s - accuracy: 0.362 - val_accuracy: 0.598 - loss: 1.071 - val_loss: 1.039\n",
      "Epoch 3/100:\n",
      "0.003s - accuracy: 0.552 - val_accuracy: 0.647 - loss: 1.046 - val_loss: 1.017\n",
      "Epoch 4/100:\n",
      "0.004s - accuracy: 0.665 - val_accuracy: 0.670 - loss: 1.018 - val_loss: 0.992\n",
      "Epoch 5/100:\n",
      "0.003s - accuracy: 0.690 - val_accuracy: 0.665 - loss: 0.992 - val_loss: 0.967\n",
      "Epoch 6/100:\n",
      "0.004s - accuracy: 0.694 - val_accuracy: 0.696 - loss: 0.972 - val_loss: 0.946\n",
      "Epoch 7/100:\n",
      "0.003s - accuracy: 0.698 - val_accuracy: 0.710 - loss: 0.945 - val_loss: 0.917\n",
      "Epoch 8/100:\n",
      "0.003s - accuracy: 0.725 - val_accuracy: 0.728 - loss: 0.919 - val_loss: 0.896\n",
      "Epoch 9/100:\n",
      "0.006s - accuracy: 0.752 - val_accuracy: 0.732 - loss: 0.889 - val_loss: 0.866\n",
      "Epoch 10/100:\n",
      "0.004s - accuracy: 0.775 - val_accuracy: 0.701 - loss: 0.856 - val_loss: 0.842\n",
      "Epoch 11/100:\n",
      "0.003s - accuracy: 0.775 - val_accuracy: 0.710 - loss: 0.827 - val_loss: 0.812\n",
      "Epoch 12/100:\n",
      "0.002s - accuracy: 0.779 - val_accuracy: 0.705 - loss: 0.807 - val_loss: 0.787\n",
      "Epoch 13/100:\n",
      "0.017s - accuracy: 0.779 - val_accuracy: 0.696 - loss: 0.773 - val_loss: 0.766\n",
      "Epoch 14/100:\n",
      "0.002s - accuracy: 0.794 - val_accuracy: 0.692 - loss: 0.749 - val_loss: 0.744\n",
      "Epoch 15/100:\n",
      "0.003s - accuracy: 0.800 - val_accuracy: 0.692 - loss: 0.720 - val_loss: 0.718\n",
      "Epoch 16/100:\n",
      "0.002s - accuracy: 0.806 - val_accuracy: 0.701 - loss: 0.694 - val_loss: 0.692\n",
      "Epoch 17/100:\n",
      "0.004s - accuracy: 0.806 - val_accuracy: 0.696 - loss: 0.654 - val_loss: 0.676\n",
      "Epoch 18/100:\n",
      "0.002s - accuracy: 0.787 - val_accuracy: 0.696 - loss: 0.645 - val_loss: 0.651\n",
      "Epoch 19/100:\n",
      "0.002s - accuracy: 0.787 - val_accuracy: 0.696 - loss: 0.623 - val_loss: 0.633\n",
      "Epoch 20/100:\n",
      "0.002s - accuracy: 0.817 - val_accuracy: 0.701 - loss: 0.589 - val_loss: 0.605\n",
      "Epoch 21/100:\n",
      "0.002s - accuracy: 0.810 - val_accuracy: 0.723 - loss: 0.570 - val_loss: 0.598\n",
      "Epoch 22/100:\n",
      "0.002s - accuracy: 0.823 - val_accuracy: 0.737 - loss: 0.532 - val_loss: 0.569\n",
      "Epoch 23/100:\n",
      "0.002s - accuracy: 0.804 - val_accuracy: 0.732 - loss: 0.521 - val_loss: 0.559\n",
      "Epoch 24/100:\n",
      "0.002s - accuracy: 0.815 - val_accuracy: 0.737 - loss: 0.514 - val_loss: 0.543\n",
      "Epoch 25/100:\n",
      "0.002s - accuracy: 0.815 - val_accuracy: 0.741 - loss: 0.489 - val_loss: 0.526\n",
      "Epoch 26/100:\n",
      "0.002s - accuracy: 0.831 - val_accuracy: 0.804 - loss: 0.474 - val_loss: 0.518\n",
      "Epoch 27/100:\n",
      "0.002s - accuracy: 0.825 - val_accuracy: 0.799 - loss: 0.460 - val_loss: 0.510\n",
      "Epoch 28/100:\n",
      "0.002s - accuracy: 0.819 - val_accuracy: 0.808 - loss: 0.451 - val_loss: 0.489\n",
      "Epoch 29/100:\n",
      "0.006s - accuracy: 0.831 - val_accuracy: 0.804 - loss: 0.422 - val_loss: 0.484\n",
      "Epoch 30/100:\n",
      "0.002s - accuracy: 0.858 - val_accuracy: 0.799 - loss: 0.403 - val_loss: 0.481\n",
      "Epoch 31/100:\n",
      "0.002s - accuracy: 0.869 - val_accuracy: 0.795 - loss: 0.400 - val_loss: 0.478\n",
      "Epoch 32/100:\n",
      "0.002s - accuracy: 0.856 - val_accuracy: 0.804 - loss: 0.398 - val_loss: 0.459\n",
      "Epoch 33/100:\n",
      "0.002s - accuracy: 0.862 - val_accuracy: 0.830 - loss: 0.385 - val_loss: 0.463\n",
      "Epoch 34/100:\n",
      "0.003s - accuracy: 0.862 - val_accuracy: 0.830 - loss: 0.370 - val_loss: 0.453\n",
      "Epoch 35/100:\n",
      "0.002s - accuracy: 0.879 - val_accuracy: 0.830 - loss: 0.360 - val_loss: 0.445\n",
      "Epoch 36/100:\n",
      "0.002s - accuracy: 0.883 - val_accuracy: 0.857 - loss: 0.355 - val_loss: 0.440\n",
      "Epoch 37/100:\n",
      "0.002s - accuracy: 0.879 - val_accuracy: 0.866 - loss: 0.336 - val_loss: 0.420\n",
      "Epoch 38/100:\n",
      "0.002s - accuracy: 0.896 - val_accuracy: 0.871 - loss: 0.330 - val_loss: 0.412\n",
      "Epoch 39/100:\n",
      "0.002s - accuracy: 0.890 - val_accuracy: 0.871 - loss: 0.321 - val_loss: 0.407\n",
      "Epoch 40/100:\n",
      "0.002s - accuracy: 0.890 - val_accuracy: 0.875 - loss: 0.320 - val_loss: 0.401\n",
      "Epoch 41/100:\n",
      "0.002s - accuracy: 0.896 - val_accuracy: 0.893 - loss: 0.303 - val_loss: 0.410\n",
      "Epoch 42/100:\n",
      "0.003s - accuracy: 0.890 - val_accuracy: 0.902 - loss: 0.300 - val_loss: 0.388\n",
      "Epoch 43/100:\n",
      "0.002s - accuracy: 0.890 - val_accuracy: 0.897 - loss: 0.287 - val_loss: 0.390\n",
      "Epoch 44/100:\n",
      "0.002s - accuracy: 0.883 - val_accuracy: 0.897 - loss: 0.299 - val_loss: 0.389\n",
      "Epoch 45/100:\n",
      "0.002s - accuracy: 0.896 - val_accuracy: 0.902 - loss: 0.277 - val_loss: 0.366\n",
      "Epoch 46/100:\n",
      "0.002s - accuracy: 0.890 - val_accuracy: 0.902 - loss: 0.274 - val_loss: 0.370\n",
      "Epoch 47/100:\n",
      "0.002s - accuracy: 0.896 - val_accuracy: 0.897 - loss: 0.264 - val_loss: 0.365\n",
      "Epoch 48/100:\n",
      "0.002s - accuracy: 0.906 - val_accuracy: 0.902 - loss: 0.264 - val_loss: 0.360\n",
      "Epoch 49/100:\n",
      "0.002s - accuracy: 0.883 - val_accuracy: 0.902 - loss: 0.264 - val_loss: 0.350\n",
      "Epoch 50/100:\n",
      "0.002s - accuracy: 0.906 - val_accuracy: 0.897 - loss: 0.252 - val_loss: 0.356\n",
      "Epoch 51/100:\n",
      "0.007s - accuracy: 0.888 - val_accuracy: 0.897 - loss: 0.265 - val_loss: 0.345\n",
      "Epoch 52/100:\n",
      "0.002s - accuracy: 0.906 - val_accuracy: 0.897 - loss: 0.240 - val_loss: 0.344\n",
      "Epoch 53/100:\n",
      "0.002s - accuracy: 0.900 - val_accuracy: 0.906 - loss: 0.244 - val_loss: 0.333\n",
      "Epoch 54/100:\n",
      "0.003s - accuracy: 0.900 - val_accuracy: 0.866 - loss: 0.238 - val_loss: 0.340\n",
      "Epoch 55/100:\n",
      "0.002s - accuracy: 0.906 - val_accuracy: 0.902 - loss: 0.229 - val_loss: 0.334\n",
      "Epoch 56/100:\n",
      "0.002s - accuracy: 0.894 - val_accuracy: 0.897 - loss: 0.235 - val_loss: 0.340\n",
      "Epoch 57/100:\n",
      "0.002s - accuracy: 0.894 - val_accuracy: 0.906 - loss: 0.235 - val_loss: 0.325\n",
      "Epoch 58/100:\n",
      "0.002s - accuracy: 0.917 - val_accuracy: 0.929 - loss: 0.218 - val_loss: 0.328\n",
      "Epoch 59/100:\n",
      "0.002s - accuracy: 0.900 - val_accuracy: 0.929 - loss: 0.224 - val_loss: 0.331\n",
      "Epoch 60/100:\n",
      "0.002s - accuracy: 0.906 - val_accuracy: 0.902 - loss: 0.212 - val_loss: 0.320\n",
      "Epoch 61/100:\n",
      "0.004s - accuracy: 0.917 - val_accuracy: 0.902 - loss: 0.208 - val_loss: 0.322\n",
      "Epoch 62/100:\n",
      "0.002s - accuracy: 0.910 - val_accuracy: 0.906 - loss: 0.212 - val_loss: 0.314\n",
      "Epoch 63/100:\n",
      "0.002s - accuracy: 0.904 - val_accuracy: 0.893 - loss: 0.212 - val_loss: 0.325\n",
      "Epoch 64/100:\n",
      "0.002s - accuracy: 0.904 - val_accuracy: 0.902 - loss: 0.213 - val_loss: 0.312\n",
      "Epoch 65/100:\n",
      "0.002s - accuracy: 0.917 - val_accuracy: 0.902 - loss: 0.200 - val_loss: 0.303\n",
      "Epoch 66/100:\n",
      "0.002s - accuracy: 0.917 - val_accuracy: 0.893 - loss: 0.195 - val_loss: 0.315\n",
      "Epoch 67/100:\n",
      "0.002s - accuracy: 0.921 - val_accuracy: 0.902 - loss: 0.197 - val_loss: 0.316\n",
      "Epoch 68/100:\n",
      "0.002s - accuracy: 0.931 - val_accuracy: 0.893 - loss: 0.197 - val_loss: 0.325\n",
      "Epoch 69/100:\n",
      "0.002s - accuracy: 0.948 - val_accuracy: 0.897 - loss: 0.192 - val_loss: 0.305\n",
      "Epoch 70/100:\n",
      "0.002s - accuracy: 0.938 - val_accuracy: 0.906 - loss: 0.189 - val_loss: 0.293\n",
      "Epoch 71/100:\n",
      "0.002s - accuracy: 0.948 - val_accuracy: 0.897 - loss: 0.181 - val_loss: 0.302\n",
      "Epoch 72/100:\n",
      "0.002s - accuracy: 0.942 - val_accuracy: 0.897 - loss: 0.194 - val_loss: 0.312\n",
      "Epoch 73/100:\n",
      "0.007s - accuracy: 0.958 - val_accuracy: 0.897 - loss: 0.189 - val_loss: 0.309\n",
      "Epoch 74/100:\n",
      "0.002s - accuracy: 0.942 - val_accuracy: 0.893 - loss: 0.188 - val_loss: 0.310\n",
      "Epoch 75/100:\n",
      "0.006s - accuracy: 0.948 - val_accuracy: 0.897 - loss: 0.179 - val_loss: 0.297\n",
      "Epoch 76/100:\n",
      "0.002s - accuracy: 0.938 - val_accuracy: 0.897 - loss: 0.176 - val_loss: 0.295\n",
      "Epoch 77/100:\n",
      "0.002s - accuracy: 0.958 - val_accuracy: 0.902 - loss: 0.178 - val_loss: 0.290\n",
      "Epoch 78/100:\n",
      "0.002s - accuracy: 0.952 - val_accuracy: 0.902 - loss: 0.177 - val_loss: 0.291\n",
      "Epoch 79/100:\n",
      "0.002s - accuracy: 0.952 - val_accuracy: 0.897 - loss: 0.172 - val_loss: 0.297\n",
      "Epoch 80/100:\n",
      "0.002s - accuracy: 0.958 - val_accuracy: 0.902 - loss: 0.168 - val_loss: 0.289\n",
      "Epoch 81/100:\n",
      "0.002s - accuracy: 0.958 - val_accuracy: 0.902 - loss: 0.161 - val_loss: 0.290\n",
      "Epoch 82/100:\n",
      "0.002s - accuracy: 0.958 - val_accuracy: 0.897 - loss: 0.163 - val_loss: 0.302\n",
      "Epoch 83/100:\n",
      "0.002s - accuracy: 0.969 - val_accuracy: 0.906 - loss: 0.162 - val_loss: 0.281\n",
      "Epoch 84/100:\n",
      "0.030s - accuracy: 0.958 - val_accuracy: 0.902 - loss: 0.159 - val_loss: 0.285\n",
      "Epoch 85/100:\n",
      "0.002s - accuracy: 0.979 - val_accuracy: 0.897 - loss: 0.154 - val_loss: 0.299\n",
      "Epoch 86/100:\n",
      "0.003s - accuracy: 0.979 - val_accuracy: 0.902 - loss: 0.156 - val_loss: 0.284\n",
      "Epoch 87/100:\n",
      "0.024s - accuracy: 0.963 - val_accuracy: 0.902 - loss: 0.157 - val_loss: 0.282\n",
      "Epoch 88/100:\n",
      "0.002s - accuracy: 0.958 - val_accuracy: 0.897 - loss: 0.149 - val_loss: 0.293\n",
      "Epoch 89/100:\n",
      "0.003s - accuracy: 0.979 - val_accuracy: 0.897 - loss: 0.151 - val_loss: 0.299\n",
      "Epoch 90/100:\n",
      "0.004s - accuracy: 0.969 - val_accuracy: 0.902 - loss: 0.149 - val_loss: 0.298\n",
      "Epoch 91/100:\n",
      "0.002s - accuracy: 0.969 - val_accuracy: 0.902 - loss: 0.143 - val_loss: 0.293\n",
      "Epoch 92/100:\n",
      "0.002s - accuracy: 0.956 - val_accuracy: 0.897 - loss: 0.155 - val_loss: 0.307\n",
      "Epoch 93/100:\n",
      "0.002s - accuracy: 0.969 - val_accuracy: 0.902 - loss: 0.143 - val_loss: 0.291\n",
      "Epoch 94/100:\n",
      "0.005s - accuracy: 0.967 - val_accuracy: 0.897 - loss: 0.152 - val_loss: 0.295\n",
      "Epoch 95/100:\n",
      "0.002s - accuracy: 0.979 - val_accuracy: 0.897 - loss: 0.138 - val_loss: 0.294\n",
      "Epoch 96/100:\n",
      "0.003s - accuracy: 0.973 - val_accuracy: 0.897 - loss: 0.149 - val_loss: 0.295\n",
      "Epoch 97/100:\n",
      "0.002s - accuracy: 0.963 - val_accuracy: 0.893 - loss: 0.142 - val_loss: 0.303\n",
      "Epoch 98/100:\n",
      "0.005s - accuracy: 0.979 - val_accuracy: 0.902 - loss: 0.139 - val_loss: 0.280\n",
      "Epoch 99/100:\n",
      "0.003s - accuracy: 0.969 - val_accuracy: 0.893 - loss: 0.132 - val_loss: 0.294\n",
      "Epoch 100/100:\n",
      "0.003s - accuracy: 0.979 - val_accuracy: 0.897 - loss: 0.134 - val_loss: 0.279\n"
     ]
    }
   ],
   "source": [
    "history = model.fit(train_data=train_ds, validation_data=val_ds, epochs=100)"
   ]
  },
  {
   "cell_type": "code",
   "execution_count": 179,
   "metadata": {
    "collapsed": false
   },
   "outputs": [
    {
     "data": {
      "text/plain": "[<matplotlib.lines.Line2D at 0x7fe308587700>,\n <matplotlib.lines.Line2D at 0x7fe308587760>]"
     },
     "execution_count": 179,
     "metadata": {},
     "output_type": "execute_result"
    },
    {
     "data": {
      "text/plain": "<Figure size 640x480 with 1 Axes>",
      "image/png": "[encoded data removed]"
     },
     "metadata": {},
     "output_type": "display_data"
    }
   ],
   "source": [
    "plt.plot(history.epochs, history.history['loss'], history.history[\"val_loss\"])"
   ]
  },
  {
   "cell_type": "code",
   "execution_count": 180,
   "metadata": {
    "collapsed": false
   },
   "outputs": [
    {
     "data": {
      "text/plain": "[<matplotlib.lines.Line2D at 0x7fe3085d4c40>,\n <matplotlib.lines.Line2D at 0x7fe3085d4ca0>]"
     },
     "execution_count": 180,
     "metadata": {},
     "output_type": "execute_result"
    },
    {
     "data": {
      "text/plain": "<Figure size 640x480 with 1 Axes>",
      "image/png": "[encoded data removed]"
     },
     "metadata": {},
     "output_type": "display_data"
    }
   ],
   "source": [
    "plt.plot(history.epochs, history.history['accuracy'], history.history['val_accuracy'])"
   ]
  },
  {
   "cell_type": "code",
   "execution_count": 181,
   "metadata": {
    "collapsed": false
   },
   "outputs": [
    {
     "name": "stdout",
     "output_type": "stream",
     "text": [
      "Test set accuracy: 93%\n"
     ]
    }
   ],
   "source": [
    "y_pred = model.predict(test_ds.dataset.T)\n",
    "y_true = test_ds.target.T\n",
    "accuracy = nn.accuracy(y_true, y_pred)\n",
    "\n",
    "print(f'Test set accuracy: {accuracy:.0%}')"
   ]
  },
  {
   "cell_type": "code",
   "execution_count": 181,
   "outputs": [],
   "source": [],
   "metadata": {
    "collapsed": false
   }
  }
 ],
 "metadata": {
  "interpreter": {
   "hash": "f683e866da633316fc45c24f83e3fadb35ee149c9f6b5fec21b6b3b95d39e9b0"
  },
  "kernelspec": {
   "display_name": "Python 3.9.7 ('numpy-nn-ryL_BLtd-py3.9')",
   "language": "python",
   "name": "python3"
  },
  "language_info": {
   "codemirror_mode": {
    "name": "ipython",
    "version": 3
   },
   "file_extension": ".py",
   "mimetype": "text/x-python",
   "name": "python",
   "nbconvert_exporter": "python",
   "pygments_lexer": "ipython3",
   "version": "3.9.7"
  }
 },
 "nbformat": 4,
 "nbformat_minor": 0
}
