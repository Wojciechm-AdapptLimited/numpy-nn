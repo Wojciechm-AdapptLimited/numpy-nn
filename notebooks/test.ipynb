{
 "cells": [
  {
   "cell_type": "code",
   "execution_count": 17,
   "metadata": {
    "collapsed": false
   },
   "outputs": [
    {
     "name": "stdout",
     "output_type": "stream",
     "text": [
      "The autoreload extension is already loaded. To reload it, use:\n",
      "  %reload_ext autoreload\n"
     ]
    }
   ],
   "source": [
    "%load_ext autoreload\n",
    "%autoreload 2"
   ]
  },
  {
   "cell_type": "code",
   "execution_count": 18,
   "metadata": {
    "collapsed": false
   },
   "outputs": [],
   "source": [
    "import numpy as np\n",
    "import seaborn as sns\n",
    "import matplotlib.pyplot as plt\n",
    "import numpy_nn as nn"
   ]
  },
  {
   "cell_type": "code",
   "execution_count": 19,
   "metadata": {
    "collapsed": false
   },
   "outputs": [
    {
     "data": {
      "text/plain": "   sepal_length  sepal_width  petal_length  petal_width species\n0           5.1          3.5           1.4          0.2  setosa\n1           4.9          3.0           1.4          0.2  setosa\n2           4.7          3.2           1.3          0.2  setosa\n3           4.6          3.1           1.5          0.2  setosa\n4           5.0          3.6           1.4          0.2  setosa",
      "text/html": "<div>\n<style scoped>\n    .dataframe tbody tr th:only-of-type {\n        vertical-align: middle;\n    }\n\n    .dataframe tbody tr th {\n        vertical-align: top;\n    }\n\n    .dataframe thead th {\n        text-align: right;\n    }\n</style>\n<table border=\"1\" class=\"dataframe\">\n  <thead>\n    <tr style=\"text-align: right;\">\n      <th></th>\n      <th>sepal_length</th>\n      <th>sepal_width</th>\n      <th>petal_length</th>\n      <th>petal_width</th>\n      <th>species</th>\n    </tr>\n  </thead>\n  <tbody>\n    <tr>\n      <th>0</th>\n      <td>5.1</td>\n      <td>3.5</td>\n      <td>1.4</td>\n      <td>0.2</td>\n      <td>setosa</td>\n    </tr>\n    <tr>\n      <th>1</th>\n      <td>4.9</td>\n      <td>3.0</td>\n      <td>1.4</td>\n      <td>0.2</td>\n      <td>setosa</td>\n    </tr>\n    <tr>\n      <th>2</th>\n      <td>4.7</td>\n      <td>3.2</td>\n      <td>1.3</td>\n      <td>0.2</td>\n      <td>setosa</td>\n    </tr>\n    <tr>\n      <th>3</th>\n      <td>4.6</td>\n      <td>3.1</td>\n      <td>1.5</td>\n      <td>0.2</td>\n      <td>setosa</td>\n    </tr>\n    <tr>\n      <th>4</th>\n      <td>5.0</td>\n      <td>3.6</td>\n      <td>1.4</td>\n      <td>0.2</td>\n      <td>setosa</td>\n    </tr>\n  </tbody>\n</table>\n</div>"
     },
     "execution_count": 19,
     "metadata": {},
     "output_type": "execute_result"
    }
   ],
   "source": [
    "dataset = sns.load_dataset(\"iris\")\n",
    "dataset.head()"
   ]
  },
  {
   "cell_type": "code",
   "execution_count": 20,
   "metadata": {
    "collapsed": false
   },
   "outputs": [
    {
     "name": "stdout",
     "output_type": "stream",
     "text": [
      "Training set size: 90\n",
      "Validation set size: 30\n",
      "Test set size: 30\n"
     ]
    }
   ],
   "source": [
    "train_data, val_data, test_data = np.split(dataset.sample(frac=1, random_state=42), [int(.6 * len(dataset)), int(.8 * len(dataset))])\n",
    "print(f'Training set size: {len(train_data)}')\n",
    "print(f'Validation set size: {len(val_data)}')\n",
    "print(f'Test set size: {len(test_data)}')"
   ]
  },
  {
   "cell_type": "code",
   "execution_count": 21,
   "metadata": {
    "collapsed": false
   },
   "outputs": [],
   "source": [
    "TARGET_NAME = \"species\"\n",
    "NUM_VARIABLES = ['sepal_length', 'sepal_width', 'petal_length', 'petal_width']"
   ]
  },
  {
   "cell_type": "code",
   "execution_count": 22,
   "metadata": {
    "collapsed": false
   },
   "outputs": [
    {
     "data": {
      "text/plain": "     sepal_length  sepal_width  petal_length  petal_width     species\n73            6.1          2.8           4.7          1.2  versicolor\n18            5.7          3.8           1.7          0.3      setosa\n118           7.7          2.6           6.9          2.3   virginica\n78            6.0          2.9           4.5          1.5  versicolor\n76            6.8          2.8           4.8          1.4  versicolor",
      "text/html": "<div>\n<style scoped>\n    .dataframe tbody tr th:only-of-type {\n        vertical-align: middle;\n    }\n\n    .dataframe tbody tr th {\n        vertical-align: top;\n    }\n\n    .dataframe thead th {\n        text-align: right;\n    }\n</style>\n<table border=\"1\" class=\"dataframe\">\n  <thead>\n    <tr style=\"text-align: right;\">\n      <th></th>\n      <th>sepal_length</th>\n      <th>sepal_width</th>\n      <th>petal_length</th>\n      <th>petal_width</th>\n      <th>species</th>\n    </tr>\n  </thead>\n  <tbody>\n    <tr>\n      <th>73</th>\n      <td>6.1</td>\n      <td>2.8</td>\n      <td>4.7</td>\n      <td>1.2</td>\n      <td>versicolor</td>\n    </tr>\n    <tr>\n      <th>18</th>\n      <td>5.7</td>\n      <td>3.8</td>\n      <td>1.7</td>\n      <td>0.3</td>\n      <td>setosa</td>\n    </tr>\n    <tr>\n      <th>118</th>\n      <td>7.7</td>\n      <td>2.6</td>\n      <td>6.9</td>\n      <td>2.3</td>\n      <td>virginica</td>\n    </tr>\n    <tr>\n      <th>78</th>\n      <td>6.0</td>\n      <td>2.9</td>\n      <td>4.5</td>\n      <td>1.5</td>\n      <td>versicolor</td>\n    </tr>\n    <tr>\n      <th>76</th>\n      <td>6.8</td>\n      <td>2.8</td>\n      <td>4.8</td>\n      <td>1.4</td>\n      <td>versicolor</td>\n    </tr>\n  </tbody>\n</table>\n</div>"
     },
     "execution_count": 22,
     "metadata": {},
     "output_type": "execute_result"
    }
   ],
   "source": [
    "train_data.head()"
   ]
  },
  {
   "cell_type": "code",
   "execution_count": 23,
   "outputs": [
    {
     "data": {
      "text/plain": "     sepal_length  sepal_width  petal_length  petal_width     species\n98            5.1          2.5           3.0          1.1  versicolor\n120           6.9          3.2           5.7          2.3   virginica\n83            6.0          2.7           5.1          1.6  versicolor\n134           6.1          2.6           5.6          1.4   virginica\n135           7.7          3.0           6.1          2.3   virginica",
      "text/html": "<div>\n<style scoped>\n    .dataframe tbody tr th:only-of-type {\n        vertical-align: middle;\n    }\n\n    .dataframe tbody tr th {\n        vertical-align: top;\n    }\n\n    .dataframe thead th {\n        text-align: right;\n    }\n</style>\n<table border=\"1\" class=\"dataframe\">\n  <thead>\n    <tr style=\"text-align: right;\">\n      <th></th>\n      <th>sepal_length</th>\n      <th>sepal_width</th>\n      <th>petal_length</th>\n      <th>petal_width</th>\n      <th>species</th>\n    </tr>\n  </thead>\n  <tbody>\n    <tr>\n      <th>98</th>\n      <td>5.1</td>\n      <td>2.5</td>\n      <td>3.0</td>\n      <td>1.1</td>\n      <td>versicolor</td>\n    </tr>\n    <tr>\n      <th>120</th>\n      <td>6.9</td>\n      <td>3.2</td>\n      <td>5.7</td>\n      <td>2.3</td>\n      <td>virginica</td>\n    </tr>\n    <tr>\n      <th>83</th>\n      <td>6.0</td>\n      <td>2.7</td>\n      <td>5.1</td>\n      <td>1.6</td>\n      <td>versicolor</td>\n    </tr>\n    <tr>\n      <th>134</th>\n      <td>6.1</td>\n      <td>2.6</td>\n      <td>5.6</td>\n      <td>1.4</td>\n      <td>virginica</td>\n    </tr>\n    <tr>\n      <th>135</th>\n      <td>7.7</td>\n      <td>3.0</td>\n      <td>6.1</td>\n      <td>2.3</td>\n      <td>virginica</td>\n    </tr>\n  </tbody>\n</table>\n</div>"
     },
     "execution_count": 23,
     "metadata": {},
     "output_type": "execute_result"
    }
   ],
   "source": [
    "val_data.head()"
   ],
   "metadata": {
    "collapsed": false
   }
  },
  {
   "cell_type": "code",
   "execution_count": 24,
   "metadata": {},
   "outputs": [
    {
     "data": {
      "text/plain": "    sepal_length  sepal_width  petal_length  petal_width     species\n91           6.1          3.0           4.6          1.4  versicolor\n41           4.5          2.3           1.3          0.3      setosa\n58           6.6          2.9           4.6          1.3  versicolor\n90           5.5          2.6           4.4          1.2  versicolor\n48           5.3          3.7           1.5          0.2      setosa",
      "text/html": "<div>\n<style scoped>\n    .dataframe tbody tr th:only-of-type {\n        vertical-align: middle;\n    }\n\n    .dataframe tbody tr th {\n        vertical-align: top;\n    }\n\n    .dataframe thead th {\n        text-align: right;\n    }\n</style>\n<table border=\"1\" class=\"dataframe\">\n  <thead>\n    <tr style=\"text-align: right;\">\n      <th></th>\n      <th>sepal_length</th>\n      <th>sepal_width</th>\n      <th>petal_length</th>\n      <th>petal_width</th>\n      <th>species</th>\n    </tr>\n  </thead>\n  <tbody>\n    <tr>\n      <th>91</th>\n      <td>6.1</td>\n      <td>3.0</td>\n      <td>4.6</td>\n      <td>1.4</td>\n      <td>versicolor</td>\n    </tr>\n    <tr>\n      <th>41</th>\n      <td>4.5</td>\n      <td>2.3</td>\n      <td>1.3</td>\n      <td>0.3</td>\n      <td>setosa</td>\n    </tr>\n    <tr>\n      <th>58</th>\n      <td>6.6</td>\n      <td>2.9</td>\n      <td>4.6</td>\n      <td>1.3</td>\n      <td>versicolor</td>\n    </tr>\n    <tr>\n      <th>90</th>\n      <td>5.5</td>\n      <td>2.6</td>\n      <td>4.4</td>\n      <td>1.2</td>\n      <td>versicolor</td>\n    </tr>\n    <tr>\n      <th>48</th>\n      <td>5.3</td>\n      <td>3.7</td>\n      <td>1.5</td>\n      <td>0.2</td>\n      <td>setosa</td>\n    </tr>\n  </tbody>\n</table>\n</div>"
     },
     "execution_count": 24,
     "metadata": {},
     "output_type": "execute_result"
    }
   ],
   "source": [
    "test_data.head()"
   ]
  },
  {
   "cell_type": "code",
   "execution_count": 25,
   "metadata": {
    "collapsed": false
   },
   "outputs": [],
   "source": [
    "train_ds = nn.data.Dataset(train_data, TARGET_NAME, [], NUM_VARIABLES, True)\n",
    "val_ds = nn.data.Dataset(val_data, TARGET_NAME, [], NUM_VARIABLES, True)\n",
    "test_ds = nn.data.Dataset(test_data, TARGET_NAME, [], NUM_VARIABLES, True)"
   ]
  },
  {
   "cell_type": "code",
   "execution_count": 26,
   "metadata": {
    "collapsed": false
   },
   "outputs": [],
   "source": [
    "model = nn.models.Sequential([\n",
    "    nn.layers.core.Input((1, train_ds.num_of_features())),\n",
    "    nn.layers.core.Dense(30, activation='relu'),\n",
    "    nn.layers.core.Dense(3, activation='softmax')\n",
    "])"
   ]
  },
  {
   "cell_type": "code",
   "execution_count": 27,
   "metadata": {
    "collapsed": false
   },
   "outputs": [],
   "source": [
    "model.compile(optimizer=nn.optimizers.SGD(lr=0.01, momentum=0.1),\n",
    "              loss=nn.losses.CategoricalCrossEntropy(),\n",
    "              metrics=['accuracy', 'val_accuracy'])"
   ]
  },
  {
   "cell_type": "code",
   "execution_count": 28,
   "metadata": {
    "collapsed": false
   },
   "outputs": [],
   "source": [
    "train_ds.batch(16)\n",
    "val_ds.batch(16)"
   ]
  },
  {
   "cell_type": "code",
   "execution_count": 29,
   "metadata": {
    "collapsed": false
   },
   "outputs": [
    {
     "name": "stdout",
     "output_type": "stream",
     "text": [
      "Epoch 1/250:\n",
      "0.013s - accuracy: 0.296 - val_accuracy: 0.402 - loss: 1.110 - val_loss: 1.075\n",
      "Epoch 2/250:\n",
      "0.004s - accuracy: 0.296 - val_accuracy: 0.388 - loss: 1.095 - val_loss: 1.068\n",
      "Epoch 3/250:\n",
      "0.004s - accuracy: 0.290 - val_accuracy: 0.527 - loss: 1.079 - val_loss: 1.051\n",
      "Epoch 4/250:\n",
      "0.004s - accuracy: 0.471 - val_accuracy: 0.661 - loss: 1.063 - val_loss: 1.040\n",
      "Epoch 5/250:\n",
      "0.011s - accuracy: 0.648 - val_accuracy: 0.679 - loss: 1.047 - val_loss: 1.019\n",
      "Epoch 6/250:\n",
      "0.004s - accuracy: 0.679 - val_accuracy: 0.670 - loss: 1.033 - val_loss: 1.010\n",
      "Epoch 7/250:\n",
      "0.005s - accuracy: 0.679 - val_accuracy: 0.674 - loss: 1.017 - val_loss: 0.996\n",
      "Epoch 8/250:\n",
      "0.008s - accuracy: 0.685 - val_accuracy: 0.665 - loss: 1.000 - val_loss: 0.988\n",
      "Epoch 9/250:\n",
      "0.003s - accuracy: 0.685 - val_accuracy: 0.665 - loss: 0.986 - val_loss: 0.975\n",
      "Epoch 10/250:\n",
      "0.001s - accuracy: 0.692 - val_accuracy: 0.656 - loss: 0.971 - val_loss: 0.968\n",
      "Epoch 11/250:\n",
      "0.001s - accuracy: 0.660 - val_accuracy: 0.683 - loss: 0.970 - val_loss: 0.946\n",
      "Epoch 12/250:\n",
      "0.002s - accuracy: 0.667 - val_accuracy: 0.656 - loss: 0.954 - val_loss: 0.948\n",
      "Epoch 13/250:\n",
      "0.003s - accuracy: 0.679 - val_accuracy: 0.670 - loss: 0.934 - val_loss: 0.929\n",
      "Epoch 14/250:\n",
      "0.001s - accuracy: 0.673 - val_accuracy: 0.670 - loss: 0.923 - val_loss: 0.917\n",
      "Epoch 15/250:\n",
      "0.001s - accuracy: 0.667 - val_accuracy: 0.674 - loss: 0.914 - val_loss: 0.905\n",
      "Epoch 16/250:\n",
      "0.001s - accuracy: 0.667 - val_accuracy: 0.661 - loss: 0.903 - val_loss: 0.901\n",
      "Epoch 17/250:\n",
      "0.002s - accuracy: 0.667 - val_accuracy: 0.665 - loss: 0.887 - val_loss: 0.886\n",
      "Epoch 18/250:\n",
      "0.001s - accuracy: 0.698 - val_accuracy: 0.661 - loss: 0.861 - val_loss: 0.879\n",
      "Epoch 19/250:\n",
      "0.002s - accuracy: 0.679 - val_accuracy: 0.674 - loss: 0.854 - val_loss: 0.858\n",
      "Epoch 20/250:\n",
      "0.001s - accuracy: 0.654 - val_accuracy: 0.665 - loss: 0.853 - val_loss: 0.857\n",
      "Epoch 21/250:\n",
      "0.001s - accuracy: 0.679 - val_accuracy: 0.670 - loss: 0.829 - val_loss: 0.842\n",
      "Epoch 22/250:\n",
      "0.002s - accuracy: 0.673 - val_accuracy: 0.665 - loss: 0.818 - val_loss: 0.832\n",
      "Epoch 23/250:\n",
      "0.001s - accuracy: 0.702 - val_accuracy: 0.665 - loss: 0.798 - val_loss: 0.818\n",
      "Epoch 24/250:\n",
      "0.001s - accuracy: 0.690 - val_accuracy: 0.674 - loss: 0.785 - val_loss: 0.807\n",
      "Epoch 25/250:\n",
      "0.001s - accuracy: 0.706 - val_accuracy: 0.670 - loss: 0.777 - val_loss: 0.796\n",
      "Epoch 26/250:\n",
      "0.001s - accuracy: 0.710 - val_accuracy: 0.674 - loss: 0.767 - val_loss: 0.785\n",
      "Epoch 27/250:\n",
      "0.001s - accuracy: 0.717 - val_accuracy: 0.705 - loss: 0.744 - val_loss: 0.773\n",
      "Epoch 28/250:\n",
      "0.001s - accuracy: 0.708 - val_accuracy: 0.710 - loss: 0.745 - val_loss: 0.768\n",
      "Epoch 29/250:\n",
      "0.001s - accuracy: 0.715 - val_accuracy: 0.688 - loss: 0.730 - val_loss: 0.760\n",
      "Epoch 30/250:\n",
      "0.001s - accuracy: 0.737 - val_accuracy: 0.692 - loss: 0.711 - val_loss: 0.753\n",
      "Epoch 31/250:\n",
      "0.001s - accuracy: 0.742 - val_accuracy: 0.737 - loss: 0.698 - val_loss: 0.732\n",
      "Epoch 32/250:\n",
      "0.001s - accuracy: 0.748 - val_accuracy: 0.754 - loss: 0.684 - val_loss: 0.739\n",
      "Epoch 33/250:\n",
      "0.001s - accuracy: 0.758 - val_accuracy: 0.763 - loss: 0.673 - val_loss: 0.724\n",
      "Epoch 34/250:\n",
      "0.001s - accuracy: 0.763 - val_accuracy: 0.768 - loss: 0.668 - val_loss: 0.715\n",
      "Epoch 35/250:\n",
      "0.002s - accuracy: 0.763 - val_accuracy: 0.768 - loss: 0.666 - val_loss: 0.697\n",
      "Epoch 36/250:\n",
      "0.024s - accuracy: 0.763 - val_accuracy: 0.763 - loss: 0.646 - val_loss: 0.696\n",
      "Epoch 37/250:\n",
      "0.003s - accuracy: 0.769 - val_accuracy: 0.768 - loss: 0.632 - val_loss: 0.681\n",
      "Epoch 38/250:\n",
      "0.003s - accuracy: 0.781 - val_accuracy: 0.732 - loss: 0.621 - val_loss: 0.676\n",
      "Epoch 39/250:\n",
      "0.003s - accuracy: 0.763 - val_accuracy: 0.741 - loss: 0.622 - val_loss: 0.667\n",
      "Epoch 40/250:\n",
      "0.003s - accuracy: 0.779 - val_accuracy: 0.737 - loss: 0.603 - val_loss: 0.661\n",
      "Epoch 41/250:\n",
      "0.003s - accuracy: 0.792 - val_accuracy: 0.728 - loss: 0.598 - val_loss: 0.660\n",
      "Epoch 42/250:\n",
      "0.003s - accuracy: 0.779 - val_accuracy: 0.741 - loss: 0.598 - val_loss: 0.643\n",
      "Epoch 43/250:\n",
      "0.005s - accuracy: 0.783 - val_accuracy: 0.728 - loss: 0.589 - val_loss: 0.647\n",
      "Epoch 44/250:\n",
      "0.003s - accuracy: 0.781 - val_accuracy: 0.732 - loss: 0.590 - val_loss: 0.636\n",
      "Epoch 45/250:\n",
      "0.006s - accuracy: 0.787 - val_accuracy: 0.732 - loss: 0.579 - val_loss: 0.628\n",
      "Epoch 46/250:\n",
      "0.003s - accuracy: 0.810 - val_accuracy: 0.737 - loss: 0.568 - val_loss: 0.619\n",
      "Epoch 47/250:\n",
      "0.004s - accuracy: 0.821 - val_accuracy: 0.737 - loss: 0.554 - val_loss: 0.616\n",
      "Epoch 48/250:\n",
      "0.003s - accuracy: 0.825 - val_accuracy: 0.732 - loss: 0.546 - val_loss: 0.612\n",
      "Epoch 49/250:\n",
      "0.003s - accuracy: 0.825 - val_accuracy: 0.732 - loss: 0.541 - val_loss: 0.609\n",
      "Epoch 50/250:\n",
      "0.003s - accuracy: 0.825 - val_accuracy: 0.777 - loss: 0.547 - val_loss: 0.601\n",
      "Epoch 51/250:\n",
      "0.003s - accuracy: 0.825 - val_accuracy: 0.728 - loss: 0.534 - val_loss: 0.596\n",
      "Epoch 52/250:\n",
      "0.003s - accuracy: 0.831 - val_accuracy: 0.737 - loss: 0.524 - val_loss: 0.586\n",
      "Epoch 53/250:\n",
      "0.003s - accuracy: 0.831 - val_accuracy: 0.772 - loss: 0.523 - val_loss: 0.583\n",
      "Epoch 54/250:\n",
      "0.019s - accuracy: 0.844 - val_accuracy: 0.777 - loss: 0.505 - val_loss: 0.579\n",
      "Epoch 55/250:\n",
      "0.005s - accuracy: 0.844 - val_accuracy: 0.795 - loss: 0.495 - val_loss: 0.571\n",
      "Epoch 56/250:\n",
      "0.003s - accuracy: 0.854 - val_accuracy: 0.799 - loss: 0.482 - val_loss: 0.571\n",
      "Epoch 57/250:\n",
      "0.003s - accuracy: 0.854 - val_accuracy: 0.808 - loss: 0.489 - val_loss: 0.562\n",
      "Epoch 58/250:\n",
      "0.003s - accuracy: 0.829 - val_accuracy: 0.830 - loss: 0.498 - val_loss: 0.558\n",
      "Epoch 59/250:\n",
      "0.008s - accuracy: 0.842 - val_accuracy: 0.830 - loss: 0.481 - val_loss: 0.559\n",
      "Epoch 60/250:\n",
      "0.005s - accuracy: 0.865 - val_accuracy: 0.844 - loss: 0.469 - val_loss: 0.548\n",
      "Epoch 61/250:\n",
      "0.003s - accuracy: 0.846 - val_accuracy: 0.835 - loss: 0.485 - val_loss: 0.539\n",
      "Epoch 62/250:\n",
      "0.004s - accuracy: 0.865 - val_accuracy: 0.835 - loss: 0.456 - val_loss: 0.543\n",
      "Epoch 63/250:\n",
      "0.008s - accuracy: 0.858 - val_accuracy: 0.830 - loss: 0.462 - val_loss: 0.534\n",
      "Epoch 64/250:\n",
      "0.001s - accuracy: 0.846 - val_accuracy: 0.862 - loss: 0.468 - val_loss: 0.529\n",
      "Epoch 65/250:\n",
      "0.009s - accuracy: 0.875 - val_accuracy: 0.862 - loss: 0.451 - val_loss: 0.533\n",
      "Epoch 66/250:\n",
      "0.003s - accuracy: 0.875 - val_accuracy: 0.862 - loss: 0.443 - val_loss: 0.529\n",
      "Epoch 67/250:\n",
      "0.003s - accuracy: 0.885 - val_accuracy: 0.862 - loss: 0.450 - val_loss: 0.528\n",
      "Epoch 68/250:\n",
      "0.020s - accuracy: 0.879 - val_accuracy: 0.871 - loss: 0.439 - val_loss: 0.514\n",
      "Epoch 69/250:\n",
      "0.002s - accuracy: 0.873 - val_accuracy: 0.862 - loss: 0.449 - val_loss: 0.511\n",
      "Epoch 70/250:\n",
      "0.001s - accuracy: 0.879 - val_accuracy: 0.862 - loss: 0.433 - val_loss: 0.509\n",
      "Epoch 71/250:\n",
      "0.001s - accuracy: 0.873 - val_accuracy: 0.862 - loss: 0.433 - val_loss: 0.506\n",
      "Epoch 72/250:\n",
      "0.001s - accuracy: 0.867 - val_accuracy: 0.862 - loss: 0.439 - val_loss: 0.501\n",
      "Epoch 73/250:\n",
      "0.002s - accuracy: 0.867 - val_accuracy: 0.862 - loss: 0.443 - val_loss: 0.498\n",
      "Epoch 74/250:\n",
      "0.001s - accuracy: 0.879 - val_accuracy: 0.875 - loss: 0.418 - val_loss: 0.492\n",
      "Epoch 75/250:\n",
      "0.001s - accuracy: 0.896 - val_accuracy: 0.871 - loss: 0.416 - val_loss: 0.485\n",
      "Epoch 76/250:\n",
      "0.002s - accuracy: 0.885 - val_accuracy: 0.866 - loss: 0.413 - val_loss: 0.500\n",
      "Epoch 77/250:\n",
      "0.001s - accuracy: 0.890 - val_accuracy: 0.871 - loss: 0.425 - val_loss: 0.483\n",
      "Epoch 78/250:\n",
      "0.001s - accuracy: 0.877 - val_accuracy: 0.862 - loss: 0.424 - val_loss: 0.483\n",
      "Epoch 79/250:\n",
      "0.001s - accuracy: 0.896 - val_accuracy: 0.862 - loss: 0.401 - val_loss: 0.489\n",
      "Epoch 80/250:\n",
      "0.003s - accuracy: 0.883 - val_accuracy: 0.871 - loss: 0.407 - val_loss: 0.478\n",
      "Epoch 81/250:\n",
      "0.001s - accuracy: 0.883 - val_accuracy: 0.902 - loss: 0.401 - val_loss: 0.483\n",
      "Epoch 82/250:\n",
      "0.001s - accuracy: 0.883 - val_accuracy: 0.897 - loss: 0.413 - val_loss: 0.481\n",
      "Epoch 83/250:\n",
      "0.001s - accuracy: 0.890 - val_accuracy: 0.902 - loss: 0.404 - val_loss: 0.465\n",
      "Epoch 84/250:\n",
      "0.001s - accuracy: 0.877 - val_accuracy: 0.897 - loss: 0.404 - val_loss: 0.469\n",
      "Epoch 85/250:\n",
      "0.032s - accuracy: 0.896 - val_accuracy: 0.902 - loss: 0.380 - val_loss: 0.463\n",
      "Epoch 86/250:\n",
      "0.002s - accuracy: 0.896 - val_accuracy: 0.893 - loss: 0.389 - val_loss: 0.469\n",
      "Epoch 87/250:\n",
      "0.006s - accuracy: 0.883 - val_accuracy: 0.902 - loss: 0.398 - val_loss: 0.464\n",
      "Epoch 88/250:\n",
      "0.002s - accuracy: 0.883 - val_accuracy: 0.902 - loss: 0.386 - val_loss: 0.458\n",
      "Epoch 89/250:\n",
      "0.003s - accuracy: 0.883 - val_accuracy: 0.897 - loss: 0.384 - val_loss: 0.455\n",
      "Epoch 90/250:\n",
      "0.002s - accuracy: 0.896 - val_accuracy: 0.902 - loss: 0.370 - val_loss: 0.458\n",
      "Epoch 91/250:\n",
      "0.002s - accuracy: 0.890 - val_accuracy: 0.902 - loss: 0.380 - val_loss: 0.448\n",
      "Epoch 92/250:\n",
      "0.002s - accuracy: 0.906 - val_accuracy: 0.897 - loss: 0.363 - val_loss: 0.454\n",
      "Epoch 93/250:\n",
      "0.002s - accuracy: 0.890 - val_accuracy: 0.897 - loss: 0.376 - val_loss: 0.448\n",
      "Epoch 94/250:\n",
      "0.002s - accuracy: 0.900 - val_accuracy: 0.897 - loss: 0.365 - val_loss: 0.448\n",
      "Epoch 95/250:\n",
      "0.002s - accuracy: 0.888 - val_accuracy: 0.897 - loss: 0.374 - val_loss: 0.445\n",
      "Epoch 96/250:\n",
      "0.002s - accuracy: 0.900 - val_accuracy: 0.902 - loss: 0.371 - val_loss: 0.435\n",
      "Epoch 97/250:\n",
      "0.002s - accuracy: 0.906 - val_accuracy: 0.902 - loss: 0.352 - val_loss: 0.441\n",
      "Epoch 98/250:\n",
      "0.002s - accuracy: 0.906 - val_accuracy: 0.897 - loss: 0.349 - val_loss: 0.434\n",
      "Epoch 99/250:\n",
      "0.003s - accuracy: 0.900 - val_accuracy: 0.893 - loss: 0.359 - val_loss: 0.437\n",
      "Epoch 100/250:\n",
      "0.002s - accuracy: 0.888 - val_accuracy: 0.893 - loss: 0.372 - val_loss: 0.438\n",
      "Epoch 101/250:\n",
      "0.002s - accuracy: 0.906 - val_accuracy: 0.897 - loss: 0.358 - val_loss: 0.431\n",
      "Epoch 102/250:\n",
      "0.002s - accuracy: 0.900 - val_accuracy: 0.906 - loss: 0.354 - val_loss: 0.424\n",
      "Epoch 103/250:\n",
      "0.006s - accuracy: 0.900 - val_accuracy: 0.902 - loss: 0.349 - val_loss: 0.429\n",
      "Epoch 104/250:\n",
      "0.003s - accuracy: 0.894 - val_accuracy: 0.902 - loss: 0.357 - val_loss: 0.426\n",
      "Epoch 105/250:\n",
      "0.003s - accuracy: 0.900 - val_accuracy: 0.902 - loss: 0.340 - val_loss: 0.418\n",
      "Epoch 106/250:\n",
      "0.002s - accuracy: 0.906 - val_accuracy: 0.902 - loss: 0.345 - val_loss: 0.418\n",
      "Epoch 107/250:\n",
      "0.002s - accuracy: 0.906 - val_accuracy: 0.902 - loss: 0.333 - val_loss: 0.419\n",
      "Epoch 108/250:\n",
      "0.002s - accuracy: 0.906 - val_accuracy: 0.897 - loss: 0.339 - val_loss: 0.420\n",
      "Epoch 109/250:\n",
      "0.002s - accuracy: 0.900 - val_accuracy: 0.902 - loss: 0.338 - val_loss: 0.412\n",
      "Epoch 110/250:\n",
      "0.002s - accuracy: 0.900 - val_accuracy: 0.897 - loss: 0.341 - val_loss: 0.414\n",
      "Epoch 111/250:\n",
      "0.002s - accuracy: 0.906 - val_accuracy: 0.897 - loss: 0.328 - val_loss: 0.416\n",
      "Epoch 112/250:\n",
      "0.002s - accuracy: 0.900 - val_accuracy: 0.902 - loss: 0.334 - val_loss: 0.412\n",
      "Epoch 113/250:\n",
      "0.002s - accuracy: 0.894 - val_accuracy: 0.897 - loss: 0.340 - val_loss: 0.408\n",
      "Epoch 114/250:\n",
      "0.002s - accuracy: 0.900 - val_accuracy: 0.902 - loss: 0.334 - val_loss: 0.406\n",
      "Epoch 115/250:\n",
      "0.002s - accuracy: 0.906 - val_accuracy: 0.857 - loss: 0.318 - val_loss: 0.411\n",
      "Epoch 116/250:\n",
      "0.002s - accuracy: 0.900 - val_accuracy: 0.862 - loss: 0.331 - val_loss: 0.406\n",
      "Epoch 117/250:\n",
      "0.002s - accuracy: 0.906 - val_accuracy: 0.862 - loss: 0.324 - val_loss: 0.410\n",
      "Epoch 118/250:\n",
      "0.002s - accuracy: 0.894 - val_accuracy: 0.866 - loss: 0.328 - val_loss: 0.403\n",
      "Epoch 119/250:\n",
      "0.002s - accuracy: 0.900 - val_accuracy: 0.862 - loss: 0.322 - val_loss: 0.403\n",
      "Epoch 120/250:\n",
      "0.002s - accuracy: 0.906 - val_accuracy: 0.866 - loss: 0.318 - val_loss: 0.396\n",
      "Epoch 121/250:\n",
      "0.002s - accuracy: 0.894 - val_accuracy: 0.871 - loss: 0.328 - val_loss: 0.393\n",
      "Epoch 122/250:\n",
      "0.002s - accuracy: 0.906 - val_accuracy: 0.862 - loss: 0.311 - val_loss: 0.401\n",
      "Epoch 123/250:\n",
      "0.002s - accuracy: 0.900 - val_accuracy: 0.866 - loss: 0.318 - val_loss: 0.397\n",
      "Epoch 124/250:\n",
      "0.002s - accuracy: 0.881 - val_accuracy: 0.862 - loss: 0.328 - val_loss: 0.398\n",
      "Epoch 125/250:\n",
      "0.002s - accuracy: 0.888 - val_accuracy: 0.866 - loss: 0.326 - val_loss: 0.394\n",
      "Epoch 126/250:\n",
      "0.003s - accuracy: 0.900 - val_accuracy: 0.871 - loss: 0.317 - val_loss: 0.386\n",
      "Epoch 127/250:\n",
      "0.002s - accuracy: 0.900 - val_accuracy: 0.871 - loss: 0.306 - val_loss: 0.388\n",
      "Epoch 128/250:\n",
      "0.002s - accuracy: 0.906 - val_accuracy: 0.866 - loss: 0.300 - val_loss: 0.393\n",
      "Epoch 129/250:\n",
      "0.002s - accuracy: 0.894 - val_accuracy: 0.866 - loss: 0.311 - val_loss: 0.390\n",
      "Epoch 130/250:\n",
      "0.003s - accuracy: 0.906 - val_accuracy: 0.862 - loss: 0.307 - val_loss: 0.386\n",
      "Epoch 131/250:\n",
      "0.005s - accuracy: 0.900 - val_accuracy: 0.866 - loss: 0.306 - val_loss: 0.378\n",
      "Epoch 132/250:\n",
      "0.002s - accuracy: 0.900 - val_accuracy: 0.866 - loss: 0.298 - val_loss: 0.379\n",
      "Epoch 133/250:\n",
      "0.002s - accuracy: 0.894 - val_accuracy: 0.871 - loss: 0.306 - val_loss: 0.381\n",
      "Epoch 134/250:\n",
      "0.002s - accuracy: 0.900 - val_accuracy: 0.866 - loss: 0.300 - val_loss: 0.378\n",
      "Epoch 135/250:\n",
      "0.006s - accuracy: 0.894 - val_accuracy: 0.871 - loss: 0.305 - val_loss: 0.379\n",
      "Epoch 136/250:\n",
      "0.004s - accuracy: 0.900 - val_accuracy: 0.862 - loss: 0.300 - val_loss: 0.377\n",
      "Epoch 137/250:\n",
      "0.002s - accuracy: 0.906 - val_accuracy: 0.862 - loss: 0.293 - val_loss: 0.381\n",
      "Epoch 138/250:\n",
      "0.002s - accuracy: 0.894 - val_accuracy: 0.871 - loss: 0.299 - val_loss: 0.374\n",
      "Epoch 139/250:\n",
      "0.002s - accuracy: 0.900 - val_accuracy: 0.866 - loss: 0.298 - val_loss: 0.378\n",
      "Epoch 140/250:\n",
      "0.002s - accuracy: 0.900 - val_accuracy: 0.866 - loss: 0.296 - val_loss: 0.376\n",
      "Epoch 141/250:\n",
      "0.003s - accuracy: 0.900 - val_accuracy: 0.871 - loss: 0.299 - val_loss: 0.372\n",
      "Epoch 142/250:\n",
      "0.002s - accuracy: 0.906 - val_accuracy: 0.875 - loss: 0.286 - val_loss: 0.363\n",
      "Epoch 143/250:\n",
      "0.003s - accuracy: 0.894 - val_accuracy: 0.875 - loss: 0.292 - val_loss: 0.362\n",
      "Epoch 144/250:\n",
      "0.002s - accuracy: 0.900 - val_accuracy: 0.866 - loss: 0.289 - val_loss: 0.366\n",
      "Epoch 145/250:\n",
      "0.002s - accuracy: 0.900 - val_accuracy: 0.871 - loss: 0.290 - val_loss: 0.364\n",
      "Epoch 146/250:\n",
      "0.004s - accuracy: 0.900 - val_accuracy: 0.866 - loss: 0.285 - val_loss: 0.368\n",
      "Epoch 147/250:\n",
      "0.002s - accuracy: 0.900 - val_accuracy: 0.857 - loss: 0.280 - val_loss: 0.372\n",
      "Epoch 148/250:\n",
      "0.002s - accuracy: 0.900 - val_accuracy: 0.871 - loss: 0.285 - val_loss: 0.363\n",
      "Epoch 149/250:\n",
      "0.002s - accuracy: 0.900 - val_accuracy: 0.866 - loss: 0.288 - val_loss: 0.361\n",
      "Epoch 150/250:\n",
      "0.002s - accuracy: 0.881 - val_accuracy: 0.862 - loss: 0.294 - val_loss: 0.368\n",
      "Epoch 151/250:\n",
      "0.002s - accuracy: 0.894 - val_accuracy: 0.871 - loss: 0.293 - val_loss: 0.353\n",
      "Epoch 152/250:\n",
      "0.002s - accuracy: 0.900 - val_accuracy: 0.871 - loss: 0.286 - val_loss: 0.359\n",
      "Epoch 153/250:\n",
      "0.002s - accuracy: 0.894 - val_accuracy: 0.866 - loss: 0.281 - val_loss: 0.358\n",
      "Epoch 154/250:\n",
      "0.002s - accuracy: 0.906 - val_accuracy: 0.871 - loss: 0.277 - val_loss: 0.353\n",
      "Epoch 155/250:\n",
      "0.002s - accuracy: 0.900 - val_accuracy: 0.866 - loss: 0.280 - val_loss: 0.354\n",
      "Epoch 156/250:\n",
      "0.002s - accuracy: 0.906 - val_accuracy: 0.875 - loss: 0.273 - val_loss: 0.350\n",
      "Epoch 157/250:\n",
      "0.009s - accuracy: 0.900 - val_accuracy: 0.871 - loss: 0.267 - val_loss: 0.352\n",
      "Epoch 158/250:\n",
      "0.002s - accuracy: 0.894 - val_accuracy: 0.897 - loss: 0.279 - val_loss: 0.358\n",
      "Epoch 159/250:\n",
      "0.002s - accuracy: 0.906 - val_accuracy: 0.866 - loss: 0.275 - val_loss: 0.356\n",
      "Epoch 160/250:\n",
      "0.004s - accuracy: 0.900 - val_accuracy: 0.902 - loss: 0.271 - val_loss: 0.347\n",
      "Epoch 161/250:\n",
      "0.002s - accuracy: 0.900 - val_accuracy: 0.893 - loss: 0.266 - val_loss: 0.355\n",
      "Epoch 162/250:\n",
      "0.002s - accuracy: 0.894 - val_accuracy: 0.897 - loss: 0.277 - val_loss: 0.358\n",
      "Epoch 163/250:\n",
      "0.002s - accuracy: 0.900 - val_accuracy: 0.897 - loss: 0.264 - val_loss: 0.351\n",
      "Epoch 164/250:\n",
      "0.003s - accuracy: 0.900 - val_accuracy: 0.893 - loss: 0.269 - val_loss: 0.355\n",
      "Epoch 165/250:\n",
      "0.002s - accuracy: 0.894 - val_accuracy: 0.902 - loss: 0.271 - val_loss: 0.351\n",
      "Epoch 166/250:\n",
      "0.032s - accuracy: 0.900 - val_accuracy: 0.902 - loss: 0.273 - val_loss: 0.343\n",
      "Epoch 167/250:\n",
      "0.002s - accuracy: 0.894 - val_accuracy: 0.897 - loss: 0.278 - val_loss: 0.346\n",
      "Epoch 168/250:\n",
      "0.002s - accuracy: 0.894 - val_accuracy: 0.897 - loss: 0.273 - val_loss: 0.351\n",
      "Epoch 169/250:\n",
      "0.002s - accuracy: 0.900 - val_accuracy: 0.902 - loss: 0.254 - val_loss: 0.343\n",
      "Epoch 170/250:\n",
      "0.002s - accuracy: 0.906 - val_accuracy: 0.897 - loss: 0.255 - val_loss: 0.344\n",
      "Epoch 171/250:\n",
      "0.002s - accuracy: 0.894 - val_accuracy: 0.906 - loss: 0.263 - val_loss: 0.338\n",
      "Epoch 172/250:\n",
      "0.002s - accuracy: 0.900 - val_accuracy: 0.906 - loss: 0.256 - val_loss: 0.338\n",
      "Epoch 173/250:\n",
      "0.002s - accuracy: 0.906 - val_accuracy: 0.897 - loss: 0.251 - val_loss: 0.345\n",
      "Epoch 174/250:\n",
      "0.002s - accuracy: 0.894 - val_accuracy: 0.897 - loss: 0.261 - val_loss: 0.339\n",
      "Epoch 175/250:\n",
      "0.002s - accuracy: 0.900 - val_accuracy: 0.902 - loss: 0.253 - val_loss: 0.341\n",
      "Epoch 176/250:\n",
      "0.003s - accuracy: 0.888 - val_accuracy: 0.897 - loss: 0.260 - val_loss: 0.339\n",
      "Epoch 177/250:\n",
      "0.002s - accuracy: 0.917 - val_accuracy: 0.906 - loss: 0.250 - val_loss: 0.338\n",
      "Epoch 178/250:\n",
      "0.002s - accuracy: 0.906 - val_accuracy: 0.897 - loss: 0.252 - val_loss: 0.340\n",
      "Epoch 179/250:\n",
      "0.002s - accuracy: 0.904 - val_accuracy: 0.906 - loss: 0.259 - val_loss: 0.331\n",
      "Epoch 180/250:\n",
      "0.002s - accuracy: 0.917 - val_accuracy: 0.902 - loss: 0.251 - val_loss: 0.332\n",
      "Epoch 181/250:\n",
      "0.003s - accuracy: 0.910 - val_accuracy: 0.906 - loss: 0.249 - val_loss: 0.330\n",
      "Epoch 182/250:\n",
      "0.002s - accuracy: 0.917 - val_accuracy: 0.897 - loss: 0.249 - val_loss: 0.341\n",
      "Epoch 183/250:\n",
      "0.002s - accuracy: 0.910 - val_accuracy: 0.893 - loss: 0.246 - val_loss: 0.340\n",
      "Epoch 184/250:\n",
      "0.002s - accuracy: 0.917 - val_accuracy: 0.902 - loss: 0.247 - val_loss: 0.328\n",
      "Epoch 185/250:\n",
      "0.002s - accuracy: 0.910 - val_accuracy: 0.902 - loss: 0.248 - val_loss: 0.337\n",
      "Epoch 186/250:\n",
      "0.002s - accuracy: 0.906 - val_accuracy: 0.902 - loss: 0.241 - val_loss: 0.332\n",
      "Epoch 187/250:\n",
      "0.002s - accuracy: 0.917 - val_accuracy: 0.906 - loss: 0.246 - val_loss: 0.329\n",
      "Epoch 188/250:\n",
      "0.002s - accuracy: 0.906 - val_accuracy: 0.897 - loss: 0.243 - val_loss: 0.332\n",
      "Epoch 189/250:\n",
      "0.002s - accuracy: 0.904 - val_accuracy: 0.893 - loss: 0.249 - val_loss: 0.338\n",
      "Epoch 190/250:\n",
      "0.002s - accuracy: 0.910 - val_accuracy: 0.902 - loss: 0.243 - val_loss: 0.329\n",
      "Epoch 191/250:\n",
      "0.002s - accuracy: 0.917 - val_accuracy: 0.902 - loss: 0.243 - val_loss: 0.323\n",
      "Epoch 192/250:\n",
      "0.002s - accuracy: 0.917 - val_accuracy: 0.902 - loss: 0.236 - val_loss: 0.329\n",
      "Epoch 193/250:\n",
      "0.002s - accuracy: 0.917 - val_accuracy: 0.897 - loss: 0.239 - val_loss: 0.332\n",
      "Epoch 194/250:\n",
      "0.002s - accuracy: 0.910 - val_accuracy: 0.897 - loss: 0.241 - val_loss: 0.329\n",
      "Epoch 195/250:\n",
      "0.002s - accuracy: 0.910 - val_accuracy: 0.902 - loss: 0.239 - val_loss: 0.328\n",
      "Epoch 196/250:\n",
      "0.002s - accuracy: 0.904 - val_accuracy: 0.897 - loss: 0.244 - val_loss: 0.327\n",
      "Epoch 197/250:\n",
      "0.002s - accuracy: 0.917 - val_accuracy: 0.897 - loss: 0.237 - val_loss: 0.330\n",
      "Epoch 198/250:\n",
      "0.002s - accuracy: 0.917 - val_accuracy: 0.897 - loss: 0.235 - val_loss: 0.329\n",
      "Epoch 199/250:\n",
      "0.002s - accuracy: 0.917 - val_accuracy: 0.902 - loss: 0.234 - val_loss: 0.321\n",
      "Epoch 200/250:\n",
      "0.002s - accuracy: 0.900 - val_accuracy: 0.897 - loss: 0.244 - val_loss: 0.326\n",
      "Epoch 201/250:\n",
      "0.005s - accuracy: 0.900 - val_accuracy: 0.897 - loss: 0.232 - val_loss: 0.326\n",
      "Epoch 202/250:\n",
      "0.002s - accuracy: 0.906 - val_accuracy: 0.902 - loss: 0.233 - val_loss: 0.325\n",
      "Epoch 203/250:\n",
      "0.004s - accuracy: 0.906 - val_accuracy: 0.897 - loss: 0.229 - val_loss: 0.327\n",
      "Epoch 204/250:\n",
      "0.004s - accuracy: 0.881 - val_accuracy: 0.906 - loss: 0.252 - val_loss: 0.318\n",
      "Epoch 205/250:\n",
      "0.003s - accuracy: 0.900 - val_accuracy: 0.902 - loss: 0.229 - val_loss: 0.322\n",
      "Epoch 206/250:\n",
      "0.002s - accuracy: 0.900 - val_accuracy: 0.902 - loss: 0.227 - val_loss: 0.320\n",
      "Epoch 207/250:\n",
      "0.002s - accuracy: 0.910 - val_accuracy: 0.897 - loss: 0.232 - val_loss: 0.321\n",
      "Epoch 208/250:\n",
      "0.011s - accuracy: 0.906 - val_accuracy: 0.906 - loss: 0.232 - val_loss: 0.312\n",
      "Epoch 209/250:\n",
      "0.002s - accuracy: 0.917 - val_accuracy: 0.902 - loss: 0.223 - val_loss: 0.316\n",
      "Epoch 210/250:\n",
      "0.002s - accuracy: 0.906 - val_accuracy: 0.906 - loss: 0.220 - val_loss: 0.317\n",
      "Epoch 211/250:\n",
      "0.005s - accuracy: 0.910 - val_accuracy: 0.897 - loss: 0.227 - val_loss: 0.318\n",
      "Epoch 212/250:\n",
      "0.002s - accuracy: 0.910 - val_accuracy: 0.897 - loss: 0.223 - val_loss: 0.322\n",
      "Epoch 213/250:\n",
      "0.002s - accuracy: 0.917 - val_accuracy: 0.902 - loss: 0.222 - val_loss: 0.315\n",
      "Epoch 214/250:\n",
      "0.002s - accuracy: 0.904 - val_accuracy: 0.906 - loss: 0.229 - val_loss: 0.311\n",
      "Epoch 215/250:\n",
      "0.003s - accuracy: 0.910 - val_accuracy: 0.897 - loss: 0.227 - val_loss: 0.316\n",
      "Epoch 216/250:\n",
      "0.002s - accuracy: 0.917 - val_accuracy: 0.902 - loss: 0.221 - val_loss: 0.314\n",
      "Epoch 217/250:\n",
      "0.002s - accuracy: 0.927 - val_accuracy: 0.897 - loss: 0.216 - val_loss: 0.317\n",
      "Epoch 218/250:\n",
      "0.005s - accuracy: 0.921 - val_accuracy: 0.906 - loss: 0.225 - val_loss: 0.305\n",
      "Epoch 219/250:\n",
      "0.002s - accuracy: 0.921 - val_accuracy: 0.897 - loss: 0.222 - val_loss: 0.321\n",
      "Epoch 220/250:\n",
      "0.005s - accuracy: 0.927 - val_accuracy: 0.897 - loss: 0.219 - val_loss: 0.319\n",
      "Epoch 221/250:\n",
      "0.002s - accuracy: 0.921 - val_accuracy: 0.897 - loss: 0.228 - val_loss: 0.318\n",
      "Epoch 222/250:\n",
      "0.002s - accuracy: 0.927 - val_accuracy: 0.902 - loss: 0.216 - val_loss: 0.317\n",
      "Epoch 223/250:\n",
      "0.004s - accuracy: 0.921 - val_accuracy: 0.897 - loss: 0.225 - val_loss: 0.319\n",
      "Epoch 224/250:\n",
      "0.002s - accuracy: 0.921 - val_accuracy: 0.897 - loss: 0.219 - val_loss: 0.318\n",
      "Epoch 225/250:\n",
      "0.009s - accuracy: 0.931 - val_accuracy: 0.902 - loss: 0.221 - val_loss: 0.316\n",
      "Epoch 226/250:\n",
      "0.003s - accuracy: 0.931 - val_accuracy: 0.897 - loss: 0.216 - val_loss: 0.313\n",
      "Epoch 227/250:\n",
      "0.003s - accuracy: 0.925 - val_accuracy: 0.893 - loss: 0.222 - val_loss: 0.321\n",
      "Epoch 228/250:\n",
      "0.004s - accuracy: 0.938 - val_accuracy: 0.893 - loss: 0.207 - val_loss: 0.317\n",
      "Epoch 229/250:\n",
      "0.003s - accuracy: 0.948 - val_accuracy: 0.902 - loss: 0.217 - val_loss: 0.309\n",
      "Epoch 230/250:\n",
      "0.005s - accuracy: 0.938 - val_accuracy: 0.902 - loss: 0.211 - val_loss: 0.307\n",
      "Epoch 231/250:\n",
      "0.004s - accuracy: 0.942 - val_accuracy: 0.902 - loss: 0.219 - val_loss: 0.308\n",
      "Epoch 232/250:\n",
      "0.004s - accuracy: 0.948 - val_accuracy: 0.893 - loss: 0.214 - val_loss: 0.316\n",
      "Epoch 233/250:\n",
      "0.004s - accuracy: 0.938 - val_accuracy: 0.902 - loss: 0.209 - val_loss: 0.305\n",
      "Epoch 234/250:\n",
      "0.005s - accuracy: 0.931 - val_accuracy: 0.897 - loss: 0.213 - val_loss: 0.313\n",
      "Epoch 235/250:\n",
      "0.001s - accuracy: 0.948 - val_accuracy: 0.897 - loss: 0.215 - val_loss: 0.310\n",
      "Epoch 236/250:\n",
      "0.001s - accuracy: 0.948 - val_accuracy: 0.902 - loss: 0.211 - val_loss: 0.305\n",
      "Epoch 237/250:\n",
      "0.001s - accuracy: 0.935 - val_accuracy: 0.902 - loss: 0.211 - val_loss: 0.302\n",
      "Epoch 238/250:\n",
      "0.001s - accuracy: 0.948 - val_accuracy: 0.902 - loss: 0.210 - val_loss: 0.305\n",
      "Epoch 239/250:\n",
      "0.001s - accuracy: 0.948 - val_accuracy: 0.906 - loss: 0.204 - val_loss: 0.298\n",
      "Epoch 240/250:\n",
      "0.001s - accuracy: 0.942 - val_accuracy: 0.897 - loss: 0.212 - val_loss: 0.307\n",
      "Epoch 241/250:\n",
      "0.001s - accuracy: 0.948 - val_accuracy: 0.902 - loss: 0.208 - val_loss: 0.301\n",
      "Epoch 242/250:\n",
      "0.001s - accuracy: 0.942 - val_accuracy: 0.897 - loss: 0.212 - val_loss: 0.304\n",
      "Epoch 243/250:\n",
      "0.001s - accuracy: 0.935 - val_accuracy: 0.893 - loss: 0.221 - val_loss: 0.315\n",
      "Epoch 244/250:\n",
      "0.001s - accuracy: 0.942 - val_accuracy: 0.897 - loss: 0.201 - val_loss: 0.313\n",
      "Epoch 245/250:\n",
      "0.002s - accuracy: 0.942 - val_accuracy: 0.897 - loss: 0.208 - val_loss: 0.311\n",
      "Epoch 246/250:\n",
      "0.001s - accuracy: 0.942 - val_accuracy: 0.902 - loss: 0.204 - val_loss: 0.300\n",
      "Epoch 247/250:\n",
      "0.001s - accuracy: 0.942 - val_accuracy: 0.902 - loss: 0.210 - val_loss: 0.306\n",
      "Epoch 248/250:\n",
      "0.001s - accuracy: 0.942 - val_accuracy: 0.906 - loss: 0.208 - val_loss: 0.299\n",
      "Epoch 249/250:\n",
      "0.002s - accuracy: 0.942 - val_accuracy: 0.897 - loss: 0.202 - val_loss: 0.308\n",
      "Epoch 250/250:\n",
      "0.001s - accuracy: 0.942 - val_accuracy: 0.902 - loss: 0.201 - val_loss: 0.300\n"
     ]
    }
   ],
   "source": [
    "history = model.fit(train_data=train_ds, validation_data=val_ds, epochs=250)"
   ]
  },
  {
   "cell_type": "code",
   "execution_count": 30,
   "metadata": {
    "collapsed": false
   },
   "outputs": [
    {
     "data": {
      "text/plain": "[<matplotlib.lines.Line2D at 0x7f88daf3aec0>,\n <matplotlib.lines.Line2D at 0x7f88daf3af20>]"
     },
     "execution_count": 30,
     "metadata": {},
     "output_type": "execute_result"
    },
    {
     "data": {
      "text/plain": "<Figure size 640x480 with 1 Axes>",
      "image/png": "[encoded data removed]"
     },
     "metadata": {},
     "output_type": "display_data"
    }
   ],
   "source": [
    "plt.plot(history.epochs, history.history['loss'], history.history[\"val_loss\"])"
   ]
  },
  {
   "cell_type": "code",
   "execution_count": 31,
   "metadata": {
    "collapsed": false
   },
   "outputs": [
    {
     "data": {
      "text/plain": "[<matplotlib.lines.Line2D at 0x7f88daf9d720>,\n <matplotlib.lines.Line2D at 0x7f88daf9d780>]"
     },
     "execution_count": 31,
     "metadata": {},
     "output_type": "execute_result"
    },
    {
     "data": {
      "text/plain": "<Figure size 640x480 with 1 Axes>",
      "image/png": "[encoded data removed]"
     },
     "metadata": {},
     "output_type": "display_data"
    }
   ],
   "source": [
    "plt.plot(history.epochs, history.history['accuracy'], history.history['val_accuracy'])"
   ]
  },
  {
   "cell_type": "code",
   "execution_count": 32,
   "metadata": {
    "collapsed": false
   },
   "outputs": [
    {
     "name": "stdout",
     "output_type": "stream",
     "text": [
      "Test set accuracy: 90%\n"
     ]
    }
   ],
   "source": [
    "y_pred = model.predict(test_ds.dataset.T)\n",
    "y_true = test_ds.target.T\n",
    "accuracy = nn.accuracy(y_true, y_pred)\n",
    "\n",
    "print(f'Test set accuracy: {accuracy:.0%}')"
   ]
  },
  {
   "cell_type": "code",
   "execution_count": 32,
   "outputs": [],
   "source": [],
   "metadata": {
    "collapsed": false
   }
  }
 ],
 "metadata": {
  "interpreter": {
   "hash": "f683e866da633316fc45c24f83e3fadb35ee149c9f6b5fec21b6b3b95d39e9b0"
  },
  "kernelspec": {
   "display_name": "Python 3.9.7 ('numpy-nn-ryL_BLtd-py3.9')",
   "language": "python",
   "name": "python3"
  },
  "language_info": {
   "codemirror_mode": {
    "name": "ipython",
    "version": 3
   },
   "file_extension": ".py",
   "mimetype": "text/x-python",
   "name": "python",
   "nbconvert_exporter": "python",
   "pygments_lexer": "ipython3",
   "version": "3.9.7"
  }
 },
 "nbformat": 4,
 "nbformat_minor": 0
}
