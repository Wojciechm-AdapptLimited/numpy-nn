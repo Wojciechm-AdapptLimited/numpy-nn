{
 "cells": [
  {
   "cell_type": "code",
   "execution_count": 1,
   "metadata": {
    "collapsed": false
   },
   "outputs": [],
   "source": [
    "%load_ext autoreload\n",
    "%autoreload 2"
   ]
  },
  {
   "cell_type": "code",
   "execution_count": 2,
   "metadata": {
    "collapsed": false
   },
   "outputs": [],
   "source": [
    "import numpy as np\n",
    "import seaborn as sns\n",
    "import matplotlib.pyplot as plt\n",
    "import numpy_nn as nn"
   ]
  },
  {
   "cell_type": "code",
   "execution_count": 3,
   "metadata": {
    "collapsed": false
   },
   "outputs": [
    {
     "data": {
      "text/plain": "   sepal_length  sepal_width  petal_length  petal_width species\n0           5.1          3.5           1.4          0.2  setosa\n1           4.9          3.0           1.4          0.2  setosa\n2           4.7          3.2           1.3          0.2  setosa\n3           4.6          3.1           1.5          0.2  setosa\n4           5.0          3.6           1.4          0.2  setosa",
      "text/html": "<div>\n<style scoped>\n    .dataframe tbody tr th:only-of-type {\n        vertical-align: middle;\n    }\n\n    .dataframe tbody tr th {\n        vertical-align: top;\n    }\n\n    .dataframe thead th {\n        text-align: right;\n    }\n</style>\n<table border=\"1\" class=\"dataframe\">\n  <thead>\n    <tr style=\"text-align: right;\">\n      <th></th>\n      <th>sepal_length</th>\n      <th>sepal_width</th>\n      <th>petal_length</th>\n      <th>petal_width</th>\n      <th>species</th>\n    </tr>\n  </thead>\n  <tbody>\n    <tr>\n      <th>0</th>\n      <td>5.1</td>\n      <td>3.5</td>\n      <td>1.4</td>\n      <td>0.2</td>\n      <td>setosa</td>\n    </tr>\n    <tr>\n      <th>1</th>\n      <td>4.9</td>\n      <td>3.0</td>\n      <td>1.4</td>\n      <td>0.2</td>\n      <td>setosa</td>\n    </tr>\n    <tr>\n      <th>2</th>\n      <td>4.7</td>\n      <td>3.2</td>\n      <td>1.3</td>\n      <td>0.2</td>\n      <td>setosa</td>\n    </tr>\n    <tr>\n      <th>3</th>\n      <td>4.6</td>\n      <td>3.1</td>\n      <td>1.5</td>\n      <td>0.2</td>\n      <td>setosa</td>\n    </tr>\n    <tr>\n      <th>4</th>\n      <td>5.0</td>\n      <td>3.6</td>\n      <td>1.4</td>\n      <td>0.2</td>\n      <td>setosa</td>\n    </tr>\n  </tbody>\n</table>\n</div>"
     },
     "execution_count": 3,
     "metadata": {},
     "output_type": "execute_result"
    }
   ],
   "source": [
    "dataset = sns.load_dataset(\"iris\")\n",
    "dataset.head()"
   ]
  },
  {
   "cell_type": "code",
   "execution_count": 4,
   "metadata": {
    "collapsed": false
   },
   "outputs": [
    {
     "name": "stdout",
     "output_type": "stream",
     "text": [
      "Training set size: 120\n",
      "Test set size: 30\n"
     ]
    }
   ],
   "source": [
    "train_data = dataset.sample(frac=.8, random_state=42)\n",
    "test_data = dataset.drop(train_data.index)\n",
    "\n",
    "print(f'Training set size: {len(train_data)}')\n",
    "print(f'Test set size: {len(test_data)}')"
   ]
  },
  {
   "cell_type": "code",
   "execution_count": 5,
   "metadata": {
    "collapsed": false
   },
   "outputs": [],
   "source": [
    "TARGET_NAME = \"species\"\n",
    "NUM_VARIABLES = ['sepal_length', 'sepal_width', 'petal_length', 'petal_width']"
   ]
  },
  {
   "cell_type": "code",
   "execution_count": 6,
   "metadata": {
    "collapsed": false
   },
   "outputs": [
    {
     "data": {
      "text/plain": "     sepal_length  sepal_width  petal_length  petal_width     species\n73            6.1          2.8           4.7          1.2  versicolor\n18            5.7          3.8           1.7          0.3      setosa\n118           7.7          2.6           6.9          2.3   virginica\n78            6.0          2.9           4.5          1.5  versicolor\n76            6.8          2.8           4.8          1.4  versicolor",
      "text/html": "<div>\n<style scoped>\n    .dataframe tbody tr th:only-of-type {\n        vertical-align: middle;\n    }\n\n    .dataframe tbody tr th {\n        vertical-align: top;\n    }\n\n    .dataframe thead th {\n        text-align: right;\n    }\n</style>\n<table border=\"1\" class=\"dataframe\">\n  <thead>\n    <tr style=\"text-align: right;\">\n      <th></th>\n      <th>sepal_length</th>\n      <th>sepal_width</th>\n      <th>petal_length</th>\n      <th>petal_width</th>\n      <th>species</th>\n    </tr>\n  </thead>\n  <tbody>\n    <tr>\n      <th>73</th>\n      <td>6.1</td>\n      <td>2.8</td>\n      <td>4.7</td>\n      <td>1.2</td>\n      <td>versicolor</td>\n    </tr>\n    <tr>\n      <th>18</th>\n      <td>5.7</td>\n      <td>3.8</td>\n      <td>1.7</td>\n      <td>0.3</td>\n      <td>setosa</td>\n    </tr>\n    <tr>\n      <th>118</th>\n      <td>7.7</td>\n      <td>2.6</td>\n      <td>6.9</td>\n      <td>2.3</td>\n      <td>virginica</td>\n    </tr>\n    <tr>\n      <th>78</th>\n      <td>6.0</td>\n      <td>2.9</td>\n      <td>4.5</td>\n      <td>1.5</td>\n      <td>versicolor</td>\n    </tr>\n    <tr>\n      <th>76</th>\n      <td>6.8</td>\n      <td>2.8</td>\n      <td>4.8</td>\n      <td>1.4</td>\n      <td>versicolor</td>\n    </tr>\n  </tbody>\n</table>\n</div>"
     },
     "execution_count": 6,
     "metadata": {},
     "output_type": "execute_result"
    }
   ],
   "source": [
    "train_data.head()"
   ]
  },
  {
   "cell_type": "code",
   "execution_count": 7,
   "metadata": {},
   "outputs": [
    {
     "data": {
      "text/plain": "    sepal_length  sepal_width  petal_length  petal_width species\n1            4.9          3.0           1.4          0.2  setosa\n14           5.8          4.0           1.2          0.2  setosa\n20           5.4          3.4           1.7          0.2  setosa\n21           5.1          3.7           1.5          0.4  setosa\n37           4.9          3.6           1.4          0.1  setosa",
      "text/html": "<div>\n<style scoped>\n    .dataframe tbody tr th:only-of-type {\n        vertical-align: middle;\n    }\n\n    .dataframe tbody tr th {\n        vertical-align: top;\n    }\n\n    .dataframe thead th {\n        text-align: right;\n    }\n</style>\n<table border=\"1\" class=\"dataframe\">\n  <thead>\n    <tr style=\"text-align: right;\">\n      <th></th>\n      <th>sepal_length</th>\n      <th>sepal_width</th>\n      <th>petal_length</th>\n      <th>petal_width</th>\n      <th>species</th>\n    </tr>\n  </thead>\n  <tbody>\n    <tr>\n      <th>1</th>\n      <td>4.9</td>\n      <td>3.0</td>\n      <td>1.4</td>\n      <td>0.2</td>\n      <td>setosa</td>\n    </tr>\n    <tr>\n      <th>14</th>\n      <td>5.8</td>\n      <td>4.0</td>\n      <td>1.2</td>\n      <td>0.2</td>\n      <td>setosa</td>\n    </tr>\n    <tr>\n      <th>20</th>\n      <td>5.4</td>\n      <td>3.4</td>\n      <td>1.7</td>\n      <td>0.2</td>\n      <td>setosa</td>\n    </tr>\n    <tr>\n      <th>21</th>\n      <td>5.1</td>\n      <td>3.7</td>\n      <td>1.5</td>\n      <td>0.4</td>\n      <td>setosa</td>\n    </tr>\n    <tr>\n      <th>37</th>\n      <td>4.9</td>\n      <td>3.6</td>\n      <td>1.4</td>\n      <td>0.1</td>\n      <td>setosa</td>\n    </tr>\n  </tbody>\n</table>\n</div>"
     },
     "execution_count": 7,
     "metadata": {},
     "output_type": "execute_result"
    }
   ],
   "source": [
    "test_data.head()"
   ]
  },
  {
   "cell_type": "code",
   "execution_count": 8,
   "metadata": {},
   "outputs": [
    {
     "data": {
      "text/plain": "array(['setosa', 'versicolor', 'virginica'], dtype=object)"
     },
     "execution_count": 8,
     "metadata": {},
     "output_type": "execute_result"
    }
   ],
   "source": [
    "target_classes_train = np.sort(train_data[TARGET_NAME].unique())\n",
    "target_classes_test = np.sort(test_data[TARGET_NAME].unique())\n",
    "target_classes_train"
   ]
  },
  {
   "cell_type": "code",
   "execution_count": 9,
   "metadata": {},
   "outputs": [
    {
     "data": {
      "text/plain": "array(['setosa', 'versicolor', 'virginica'], dtype=object)"
     },
     "execution_count": 9,
     "metadata": {},
     "output_type": "execute_result"
    }
   ],
   "source": [
    "target_classes_test"
   ]
  },
  {
   "cell_type": "code",
   "execution_count": 10,
   "metadata": {
    "collapsed": false
   },
   "outputs": [
    {
     "data": {
      "text/plain": "     sepal_length  sepal_width  petal_length  petal_width  species\n73            6.1          2.8           4.7          1.2        1\n18            5.7          3.8           1.7          0.3        0\n118           7.7          2.6           6.9          2.3        2\n78            6.0          2.9           4.5          1.5        1\n76            6.8          2.8           4.8          1.4        1",
      "text/html": "<div>\n<style scoped>\n    .dataframe tbody tr th:only-of-type {\n        vertical-align: middle;\n    }\n\n    .dataframe tbody tr th {\n        vertical-align: top;\n    }\n\n    .dataframe thead th {\n        text-align: right;\n    }\n</style>\n<table border=\"1\" class=\"dataframe\">\n  <thead>\n    <tr style=\"text-align: right;\">\n      <th></th>\n      <th>sepal_length</th>\n      <th>sepal_width</th>\n      <th>petal_length</th>\n      <th>petal_width</th>\n      <th>species</th>\n    </tr>\n  </thead>\n  <tbody>\n    <tr>\n      <th>73</th>\n      <td>6.1</td>\n      <td>2.8</td>\n      <td>4.7</td>\n      <td>1.2</td>\n      <td>1</td>\n    </tr>\n    <tr>\n      <th>18</th>\n      <td>5.7</td>\n      <td>3.8</td>\n      <td>1.7</td>\n      <td>0.3</td>\n      <td>0</td>\n    </tr>\n    <tr>\n      <th>118</th>\n      <td>7.7</td>\n      <td>2.6</td>\n      <td>6.9</td>\n      <td>2.3</td>\n      <td>2</td>\n    </tr>\n    <tr>\n      <th>78</th>\n      <td>6.0</td>\n      <td>2.9</td>\n      <td>4.5</td>\n      <td>1.5</td>\n      <td>1</td>\n    </tr>\n    <tr>\n      <th>76</th>\n      <td>6.8</td>\n      <td>2.8</td>\n      <td>4.8</td>\n      <td>1.4</td>\n      <td>1</td>\n    </tr>\n  </tbody>\n</table>\n</div>"
     },
     "execution_count": 10,
     "metadata": {},
     "output_type": "execute_result"
    }
   ],
   "source": [
    "train_data[TARGET_NAME] = train_data[TARGET_NAME].replace(target_classes_train, np.arange(target_classes_train.size))\n",
    "test_data[TARGET_NAME] = test_data[TARGET_NAME].replace(target_classes_test, np.arange(target_classes_test.size))\n",
    "train_data.head()"
   ]
  },
  {
   "cell_type": "code",
   "execution_count": 11,
   "metadata": {
    "collapsed": false
   },
   "outputs": [],
   "source": [
    "train_ds = nn.data.Dataset(train_data, TARGET_NAME, [], NUM_VARIABLES)\n",
    "test_ds = nn.data.Dataset(test_data, TARGET_NAME, [], NUM_VARIABLES)"
   ]
  },
  {
   "cell_type": "code",
   "execution_count": 12,
   "metadata": {
    "collapsed": false
   },
   "outputs": [],
   "source": [
    "model = nn.models.Sequential([\n",
    "    nn.layers.core.Input((1, train_ds.num_of_features())),\n",
    "    nn.layers.core.Dense(30, activation='relu'),\n",
    "    nn.layers.core.Dense(3, activation='softmax')\n",
    "])"
   ]
  },
  {
   "cell_type": "code",
   "execution_count": 13,
   "metadata": {
    "collapsed": false
   },
   "outputs": [],
   "source": [
    "model.compile(optimizer=nn.optimizers.SGD(lr=0.01, momentum=0.9),\n",
    "              loss=nn.losses.CategoricalCrossEntropy(),\n",
    "              metrics=['accuracy'])"
   ]
  },
  {
   "cell_type": "code",
   "execution_count": 14,
   "metadata": {
    "collapsed": false
   },
   "outputs": [],
   "source": [
    "train_ds.batch(16)"
   ]
  },
  {
   "cell_type": "code",
   "execution_count": 15,
   "metadata": {
    "collapsed": false
   },
   "outputs": [
    {
     "name": "stdout",
     "output_type": "stream",
     "text": [
      "Epoch 1/250:\n",
      "0.083s - accuracy: 0.305 - loss: 1.125\n",
      "Epoch 2/250:\n",
      "0.011s - accuracy: 0.328 - loss: 1.108\n",
      "Epoch 3/250:\n",
      "0.009s - accuracy: 0.328 - loss: 1.094\n",
      "Epoch 4/250:\n",
      "0.009s - accuracy: 0.312 - loss: 1.079\n",
      "Epoch 5/250:\n",
      "0.005s - accuracy: 0.336 - loss: 1.059\n",
      "Epoch 6/250:\n",
      "0.005s - accuracy: 0.359 - loss: 1.045\n",
      "Epoch 7/250:\n",
      "0.005s - accuracy: 0.477 - loss: 1.029\n",
      "Epoch 8/250:\n",
      "0.005s - accuracy: 0.594 - loss: 1.016\n",
      "Epoch 9/250:\n",
      "0.005s - accuracy: 0.680 - loss: 1.000\n",
      "Epoch 10/250:\n",
      "0.010s - accuracy: 0.703 - loss: 0.984\n",
      "Epoch 11/250:\n",
      "0.007s - accuracy: 0.812 - loss: 0.972\n",
      "Epoch 12/250:\n",
      "0.002s - accuracy: 0.859 - loss: 0.955\n",
      "Epoch 13/250:\n",
      "0.007s - accuracy: 0.914 - loss: 0.936\n",
      "Epoch 14/250:\n",
      "0.004s - accuracy: 0.953 - loss: 0.924\n",
      "Epoch 15/250:\n",
      "0.002s - accuracy: 0.961 - loss: 0.907\n",
      "Epoch 16/250:\n",
      "0.002s - accuracy: 0.953 - loss: 0.886\n",
      "Epoch 17/250:\n",
      "0.003s - accuracy: 0.906 - loss: 0.874\n",
      "Epoch 18/250:\n",
      "0.002s - accuracy: 0.883 - loss: 0.862\n",
      "Epoch 19/250:\n",
      "0.002s - accuracy: 0.883 - loss: 0.839\n",
      "Epoch 20/250:\n",
      "0.002s - accuracy: 0.883 - loss: 0.825\n",
      "Epoch 21/250:\n",
      "0.002s - accuracy: 0.875 - loss: 0.806\n",
      "Epoch 22/250:\n",
      "0.002s - accuracy: 0.859 - loss: 0.785\n",
      "Epoch 23/250:\n",
      "0.003s - accuracy: 0.867 - loss: 0.773\n",
      "Epoch 24/250:\n",
      "0.002s - accuracy: 0.859 - loss: 0.752\n",
      "Epoch 25/250:\n",
      "0.002s - accuracy: 0.844 - loss: 0.735\n",
      "Epoch 26/250:\n",
      "0.002s - accuracy: 0.844 - loss: 0.724\n",
      "Epoch 27/250:\n",
      "0.002s - accuracy: 0.844 - loss: 0.706\n",
      "Epoch 28/250:\n",
      "0.006s - accuracy: 0.836 - loss: 0.689\n",
      "Epoch 29/250:\n",
      "0.003s - accuracy: 0.828 - loss: 0.673\n",
      "Epoch 30/250:\n",
      "0.002s - accuracy: 0.844 - loss: 0.663\n",
      "Epoch 31/250:\n",
      "0.002s - accuracy: 0.836 - loss: 0.650\n",
      "Epoch 32/250:\n",
      "0.002s - accuracy: 0.844 - loss: 0.630\n",
      "Epoch 33/250:\n",
      "0.002s - accuracy: 0.820 - loss: 0.619\n",
      "Epoch 34/250:\n",
      "0.002s - accuracy: 0.828 - loss: 0.615\n",
      "Epoch 35/250:\n",
      "0.002s - accuracy: 0.828 - loss: 0.595\n",
      "Epoch 36/250:\n",
      "0.003s - accuracy: 0.828 - loss: 0.590\n",
      "Epoch 37/250:\n",
      "0.003s - accuracy: 0.836 - loss: 0.568\n",
      "Epoch 38/250:\n",
      "0.002s - accuracy: 0.828 - loss: 0.569\n",
      "Epoch 39/250:\n",
      "0.002s - accuracy: 0.828 - loss: 0.557\n",
      "Epoch 40/250:\n",
      "0.002s - accuracy: 0.820 - loss: 0.570\n",
      "Epoch 41/250:\n",
      "0.002s - accuracy: 0.844 - loss: 0.529\n",
      "Epoch 42/250:\n",
      "0.002s - accuracy: 0.828 - loss: 0.539\n",
      "Epoch 43/250:\n",
      "0.002s - accuracy: 0.844 - loss: 0.533\n",
      "Epoch 44/250:\n",
      "0.002s - accuracy: 0.836 - loss: 0.518\n",
      "Epoch 45/250:\n",
      "0.005s - accuracy: 0.836 - loss: 0.517\n",
      "Epoch 46/250:\n",
      "0.002s - accuracy: 0.820 - loss: 0.517\n",
      "Epoch 47/250:\n",
      "0.002s - accuracy: 0.836 - loss: 0.497\n",
      "Epoch 48/250:\n",
      "0.005s - accuracy: 0.836 - loss: 0.485\n",
      "Epoch 49/250:\n",
      "0.002s - accuracy: 0.844 - loss: 0.464\n",
      "Epoch 50/250:\n",
      "0.002s - accuracy: 0.836 - loss: 0.483\n",
      "Epoch 51/250:\n",
      "0.003s - accuracy: 0.844 - loss: 0.465\n",
      "Epoch 52/250:\n",
      "0.002s - accuracy: 0.820 - loss: 0.479\n",
      "Epoch 53/250:\n",
      "0.002s - accuracy: 0.836 - loss: 0.455\n",
      "Epoch 54/250:\n",
      "0.024s - accuracy: 0.844 - loss: 0.457\n",
      "Epoch 55/250:\n",
      "0.003s - accuracy: 0.844 - loss: 0.447\n",
      "Epoch 56/250:\n",
      "0.002s - accuracy: 0.828 - loss: 0.455\n",
      "Epoch 57/250:\n",
      "0.003s - accuracy: 0.844 - loss: 0.436\n",
      "Epoch 58/250:\n",
      "0.007s - accuracy: 0.836 - loss: 0.443\n",
      "Epoch 59/250:\n",
      "0.065s - accuracy: 0.844 - loss: 0.432\n",
      "Epoch 60/250:\n",
      "0.005s - accuracy: 0.852 - loss: 0.420\n",
      "Epoch 61/250:\n",
      "0.004s - accuracy: 0.844 - loss: 0.429\n",
      "Epoch 62/250:\n",
      "0.004s - accuracy: 0.859 - loss: 0.427\n",
      "Epoch 63/250:\n",
      "0.003s - accuracy: 0.867 - loss: 0.412\n",
      "Epoch 64/250:\n",
      "0.003s - accuracy: 0.859 - loss: 0.410\n",
      "Epoch 65/250:\n",
      "0.002s - accuracy: 0.859 - loss: 0.412\n",
      "Epoch 66/250:\n",
      "0.002s - accuracy: 0.859 - loss: 0.408\n",
      "Epoch 67/250:\n",
      "0.002s - accuracy: 0.852 - loss: 0.401\n",
      "Epoch 68/250:\n",
      "0.002s - accuracy: 0.859 - loss: 0.407\n",
      "Epoch 69/250:\n",
      "0.003s - accuracy: 0.859 - loss: 0.408\n",
      "Epoch 70/250:\n",
      "0.002s - accuracy: 0.867 - loss: 0.387\n",
      "Epoch 71/250:\n",
      "0.008s - accuracy: 0.867 - loss: 0.390\n",
      "Epoch 72/250:\n",
      "0.003s - accuracy: 0.867 - loss: 0.380\n",
      "Epoch 73/250:\n",
      "0.002s - accuracy: 0.867 - loss: 0.377\n",
      "Epoch 74/250:\n",
      "0.002s - accuracy: 0.867 - loss: 0.372\n",
      "Epoch 75/250:\n",
      "0.002s - accuracy: 0.867 - loss: 0.377\n",
      "Epoch 76/250:\n",
      "0.003s - accuracy: 0.875 - loss: 0.364\n",
      "Epoch 77/250:\n",
      "0.003s - accuracy: 0.875 - loss: 0.360\n",
      "Epoch 78/250:\n",
      "0.003s - accuracy: 0.875 - loss: 0.367\n",
      "Epoch 79/250:\n",
      "0.008s - accuracy: 0.875 - loss: 0.369\n",
      "Epoch 80/250:\n",
      "0.017s - accuracy: 0.883 - loss: 0.367\n",
      "Epoch 81/250:\n",
      "0.010s - accuracy: 0.875 - loss: 0.361\n",
      "Epoch 82/250:\n",
      "0.008s - accuracy: 0.883 - loss: 0.359\n",
      "Epoch 83/250:\n",
      "0.007s - accuracy: 0.875 - loss: 0.350\n",
      "Epoch 84/250:\n",
      "0.008s - accuracy: 0.875 - loss: 0.355\n",
      "Epoch 85/250:\n",
      "0.025s - accuracy: 0.883 - loss: 0.347\n",
      "Epoch 86/250:\n",
      "0.002s - accuracy: 0.875 - loss: 0.351\n",
      "Epoch 87/250:\n",
      "0.002s - accuracy: 0.875 - loss: 0.351\n",
      "Epoch 88/250:\n",
      "0.003s - accuracy: 0.891 - loss: 0.324\n",
      "Epoch 89/250:\n",
      "0.002s - accuracy: 0.883 - loss: 0.338\n",
      "Epoch 90/250:\n",
      "0.002s - accuracy: 0.875 - loss: 0.333\n",
      "Epoch 91/250:\n",
      "0.002s - accuracy: 0.898 - loss: 0.331\n",
      "Epoch 92/250:\n",
      "0.058s - accuracy: 0.891 - loss: 0.334\n",
      "Epoch 93/250:\n",
      "0.004s - accuracy: 0.891 - loss: 0.327\n",
      "Epoch 94/250:\n",
      "0.003s - accuracy: 0.898 - loss: 0.317\n",
      "Epoch 95/250:\n",
      "0.002s - accuracy: 0.898 - loss: 0.321\n",
      "Epoch 96/250:\n",
      "0.002s - accuracy: 0.891 - loss: 0.321\n",
      "Epoch 97/250:\n",
      "0.003s - accuracy: 0.898 - loss: 0.314\n",
      "Epoch 98/250:\n",
      "0.002s - accuracy: 0.883 - loss: 0.324\n",
      "Epoch 99/250:\n",
      "0.003s - accuracy: 0.883 - loss: 0.326\n",
      "Epoch 100/250:\n",
      "0.002s - accuracy: 0.883 - loss: 0.327\n",
      "Epoch 101/250:\n",
      "0.002s - accuracy: 0.875 - loss: 0.319\n",
      "Epoch 102/250:\n",
      "0.005s - accuracy: 0.875 - loss: 0.309\n",
      "Epoch 103/250:\n",
      "0.005s - accuracy: 0.883 - loss: 0.303\n",
      "Epoch 104/250:\n",
      "0.006s - accuracy: 0.891 - loss: 0.300\n",
      "Epoch 105/250:\n",
      "0.007s - accuracy: 0.875 - loss: 0.304\n",
      "Epoch 106/250:\n",
      "0.006s - accuracy: 0.875 - loss: 0.304\n",
      "Epoch 107/250:\n",
      "0.005s - accuracy: 0.883 - loss: 0.301\n",
      "Epoch 108/250:\n",
      "0.002s - accuracy: 0.867 - loss: 0.310\n",
      "Epoch 109/250:\n",
      "0.005s - accuracy: 0.891 - loss: 0.288\n",
      "Epoch 110/250:\n",
      "0.003s - accuracy: 0.883 - loss: 0.292\n",
      "Epoch 111/250:\n",
      "0.003s - accuracy: 0.891 - loss: 0.285\n",
      "Epoch 112/250:\n",
      "0.002s - accuracy: 0.875 - loss: 0.298\n",
      "Epoch 113/250:\n",
      "0.003s - accuracy: 0.891 - loss: 0.292\n",
      "Epoch 114/250:\n",
      "0.002s - accuracy: 0.883 - loss: 0.293\n",
      "Epoch 115/250:\n",
      "0.002s - accuracy: 0.883 - loss: 0.284\n",
      "Epoch 116/250:\n",
      "0.002s - accuracy: 0.883 - loss: 0.285\n",
      "Epoch 117/250:\n",
      "0.002s - accuracy: 0.875 - loss: 0.286\n",
      "Epoch 118/250:\n",
      "0.002s - accuracy: 0.891 - loss: 0.287\n",
      "Epoch 119/250:\n",
      "0.002s - accuracy: 0.891 - loss: 0.281\n",
      "Epoch 120/250:\n",
      "0.002s - accuracy: 0.891 - loss: 0.274\n",
      "Epoch 121/250:\n",
      "0.002s - accuracy: 0.891 - loss: 0.277\n",
      "Epoch 122/250:\n",
      "0.002s - accuracy: 0.891 - loss: 0.280\n",
      "Epoch 123/250:\n",
      "0.002s - accuracy: 0.898 - loss: 0.277\n",
      "Epoch 124/250:\n",
      "0.002s - accuracy: 0.898 - loss: 0.269\n",
      "Epoch 125/250:\n",
      "0.002s - accuracy: 0.906 - loss: 0.265\n",
      "Epoch 126/250:\n",
      "0.003s - accuracy: 0.883 - loss: 0.277\n",
      "Epoch 127/250:\n",
      "0.002s - accuracy: 0.883 - loss: 0.276\n",
      "Epoch 128/250:\n",
      "0.002s - accuracy: 0.898 - loss: 0.267\n",
      "Epoch 129/250:\n",
      "0.005s - accuracy: 0.914 - loss: 0.262\n",
      "Epoch 130/250:\n",
      "0.003s - accuracy: 0.914 - loss: 0.265\n",
      "Epoch 131/250:\n",
      "0.005s - accuracy: 0.914 - loss: 0.264\n",
      "Epoch 132/250:\n",
      "0.003s - accuracy: 0.914 - loss: 0.263\n",
      "Epoch 133/250:\n",
      "0.009s - accuracy: 0.914 - loss: 0.267\n",
      "Epoch 134/250:\n",
      "0.003s - accuracy: 0.922 - loss: 0.254\n",
      "Epoch 135/250:\n",
      "0.002s - accuracy: 0.914 - loss: 0.259\n",
      "Epoch 136/250:\n",
      "0.002s - accuracy: 0.922 - loss: 0.266\n",
      "Epoch 137/250:\n",
      "0.002s - accuracy: 0.914 - loss: 0.257\n",
      "Epoch 138/250:\n",
      "0.002s - accuracy: 0.914 - loss: 0.260\n",
      "Epoch 139/250:\n",
      "0.031s - accuracy: 0.922 - loss: 0.250\n",
      "Epoch 140/250:\n",
      "0.002s - accuracy: 0.922 - loss: 0.243\n",
      "Epoch 141/250:\n",
      "0.004s - accuracy: 0.922 - loss: 0.247\n",
      "Epoch 142/250:\n",
      "0.002s - accuracy: 0.922 - loss: 0.251\n",
      "Epoch 143/250:\n",
      "0.004s - accuracy: 0.906 - loss: 0.260\n",
      "Epoch 144/250:\n",
      "0.002s - accuracy: 0.914 - loss: 0.244\n",
      "Epoch 145/250:\n",
      "0.002s - accuracy: 0.914 - loss: 0.256\n",
      "Epoch 146/250:\n",
      "0.002s - accuracy: 0.906 - loss: 0.263\n",
      "Epoch 147/250:\n",
      "0.003s - accuracy: 0.914 - loss: 0.244\n",
      "Epoch 148/250:\n",
      "0.002s - accuracy: 0.930 - loss: 0.238\n",
      "Epoch 149/250:\n",
      "0.003s - accuracy: 0.930 - loss: 0.250\n",
      "Epoch 150/250:\n",
      "0.002s - accuracy: 0.938 - loss: 0.250\n",
      "Epoch 151/250:\n",
      "0.002s - accuracy: 0.930 - loss: 0.237\n",
      "Epoch 152/250:\n",
      "0.002s - accuracy: 0.922 - loss: 0.245\n",
      "Epoch 153/250:\n",
      "0.003s - accuracy: 0.922 - loss: 0.243\n",
      "Epoch 154/250:\n",
      "0.002s - accuracy: 0.938 - loss: 0.235\n",
      "Epoch 155/250:\n",
      "0.002s - accuracy: 0.930 - loss: 0.232\n",
      "Epoch 156/250:\n",
      "0.002s - accuracy: 0.930 - loss: 0.239\n",
      "Epoch 157/250:\n",
      "0.002s - accuracy: 0.938 - loss: 0.228\n",
      "Epoch 158/250:\n",
      "0.002s - accuracy: 0.938 - loss: 0.236\n",
      "Epoch 159/250:\n",
      "0.002s - accuracy: 0.938 - loss: 0.234\n",
      "Epoch 160/250:\n",
      "0.002s - accuracy: 0.938 - loss: 0.231\n",
      "Epoch 161/250:\n",
      "0.002s - accuracy: 0.930 - loss: 0.237\n",
      "Epoch 162/250:\n",
      "0.002s - accuracy: 0.945 - loss: 0.221\n",
      "Epoch 163/250:\n",
      "0.015s - accuracy: 0.938 - loss: 0.227\n",
      "Epoch 164/250:\n",
      "0.002s - accuracy: 0.938 - loss: 0.228\n",
      "Epoch 165/250:\n",
      "0.005s - accuracy: 0.938 - loss: 0.224\n",
      "Epoch 166/250:\n",
      "0.002s - accuracy: 0.938 - loss: 0.228\n",
      "Epoch 167/250:\n",
      "0.002s - accuracy: 0.930 - loss: 0.230\n",
      "Epoch 168/250:\n",
      "0.005s - accuracy: 0.930 - loss: 0.231\n",
      "Epoch 169/250:\n",
      "0.002s - accuracy: 0.938 - loss: 0.212\n",
      "Epoch 170/250:\n",
      "0.002s - accuracy: 0.945 - loss: 0.216\n",
      "Epoch 171/250:\n",
      "0.002s - accuracy: 0.922 - loss: 0.229\n",
      "Epoch 172/250:\n",
      "0.002s - accuracy: 0.938 - loss: 0.212\n",
      "Epoch 173/250:\n",
      "0.002s - accuracy: 0.930 - loss: 0.220\n",
      "Epoch 174/250:\n",
      "0.002s - accuracy: 0.938 - loss: 0.206\n",
      "Epoch 175/250:\n",
      "0.002s - accuracy: 0.938 - loss: 0.210\n",
      "Epoch 176/250:\n",
      "0.003s - accuracy: 0.930 - loss: 0.215\n",
      "Epoch 177/250:\n",
      "0.002s - accuracy: 0.938 - loss: 0.217\n",
      "Epoch 178/250:\n",
      "0.002s - accuracy: 0.938 - loss: 0.212\n",
      "Epoch 179/250:\n",
      "0.002s - accuracy: 0.930 - loss: 0.218\n",
      "Epoch 180/250:\n",
      "0.002s - accuracy: 0.930 - loss: 0.224\n",
      "Epoch 181/250:\n",
      "0.002s - accuracy: 0.922 - loss: 0.224\n",
      "Epoch 182/250:\n",
      "0.002s - accuracy: 0.945 - loss: 0.207\n",
      "Epoch 183/250:\n",
      "0.002s - accuracy: 0.945 - loss: 0.209\n",
      "Epoch 184/250:\n",
      "0.002s - accuracy: 0.945 - loss: 0.206\n",
      "Epoch 185/250:\n",
      "0.002s - accuracy: 0.945 - loss: 0.204\n",
      "Epoch 186/250:\n",
      "0.002s - accuracy: 0.945 - loss: 0.204\n",
      "Epoch 187/250:\n",
      "0.002s - accuracy: 0.945 - loss: 0.202\n",
      "Epoch 188/250:\n",
      "0.005s - accuracy: 0.938 - loss: 0.202\n",
      "Epoch 189/250:\n",
      "0.003s - accuracy: 0.945 - loss: 0.200\n",
      "Epoch 190/250:\n",
      "0.002s - accuracy: 0.953 - loss: 0.204\n",
      "Epoch 191/250:\n",
      "0.005s - accuracy: 0.945 - loss: 0.203\n",
      "Epoch 192/250:\n",
      "0.002s - accuracy: 0.953 - loss: 0.202\n",
      "Epoch 193/250:\n",
      "0.002s - accuracy: 0.945 - loss: 0.217\n",
      "Epoch 194/250:\n",
      "0.002s - accuracy: 0.938 - loss: 0.212\n",
      "Epoch 195/250:\n",
      "0.004s - accuracy: 0.953 - loss: 0.197\n",
      "Epoch 196/250:\n",
      "0.008s - accuracy: 0.953 - loss: 0.194\n",
      "Epoch 197/250:\n",
      "0.002s - accuracy: 0.953 - loss: 0.191\n",
      "Epoch 198/250:\n",
      "0.002s - accuracy: 0.953 - loss: 0.194\n",
      "Epoch 199/250:\n",
      "0.003s - accuracy: 0.953 - loss: 0.198\n",
      "Epoch 200/250:\n",
      "0.002s - accuracy: 0.945 - loss: 0.207\n",
      "Epoch 201/250:\n",
      "0.003s - accuracy: 0.953 - loss: 0.195\n",
      "Epoch 202/250:\n",
      "0.002s - accuracy: 0.953 - loss: 0.204\n",
      "Epoch 203/250:\n",
      "0.045s - accuracy: 0.953 - loss: 0.194\n",
      "Epoch 204/250:\n",
      "0.016s - accuracy: 0.961 - loss: 0.190\n",
      "Epoch 205/250:\n",
      "0.009s - accuracy: 0.945 - loss: 0.204\n",
      "Epoch 206/250:\n",
      "0.023s - accuracy: 0.953 - loss: 0.189\n",
      "Epoch 207/250:\n",
      "0.037s - accuracy: 0.953 - loss: 0.188\n",
      "Epoch 208/250:\n",
      "0.005s - accuracy: 0.953 - loss: 0.191\n",
      "Epoch 209/250:\n",
      "0.007s - accuracy: 0.961 - loss: 0.192\n",
      "Epoch 210/250:\n",
      "0.008s - accuracy: 0.961 - loss: 0.187\n",
      "Epoch 211/250:\n",
      "0.008s - accuracy: 0.961 - loss: 0.179\n",
      "Epoch 212/250:\n",
      "0.010s - accuracy: 0.945 - loss: 0.196\n",
      "Epoch 213/250:\n",
      "0.007s - accuracy: 0.953 - loss: 0.195\n",
      "Epoch 214/250:\n",
      "0.007s - accuracy: 0.961 - loss: 0.180\n",
      "Epoch 215/250:\n",
      "0.007s - accuracy: 0.961 - loss: 0.176\n",
      "Epoch 216/250:\n",
      "0.050s - accuracy: 0.961 - loss: 0.183\n",
      "Epoch 217/250:\n",
      "0.006s - accuracy: 0.961 - loss: 0.185\n",
      "Epoch 218/250:\n",
      "0.003s - accuracy: 0.953 - loss: 0.188\n",
      "Epoch 219/250:\n",
      "0.003s - accuracy: 0.961 - loss: 0.184\n",
      "Epoch 220/250:\n",
      "0.004s - accuracy: 0.961 - loss: 0.185\n",
      "Epoch 221/250:\n",
      "0.005s - accuracy: 0.961 - loss: 0.180\n",
      "Epoch 222/250:\n",
      "0.004s - accuracy: 0.945 - loss: 0.199\n",
      "Epoch 223/250:\n",
      "0.003s - accuracy: 0.953 - loss: 0.184\n",
      "Epoch 224/250:\n",
      "0.003s - accuracy: 0.953 - loss: 0.181\n",
      "Epoch 225/250:\n",
      "0.003s - accuracy: 0.953 - loss: 0.176\n",
      "Epoch 226/250:\n",
      "0.004s - accuracy: 0.953 - loss: 0.177\n",
      "Epoch 227/250:\n",
      "0.002s - accuracy: 0.961 - loss: 0.172\n",
      "Epoch 228/250:\n",
      "0.002s - accuracy: 0.938 - loss: 0.180\n",
      "Epoch 229/250:\n",
      "0.002s - accuracy: 0.945 - loss: 0.175\n",
      "Epoch 230/250:\n",
      "0.002s - accuracy: 0.945 - loss: 0.176\n",
      "Epoch 231/250:\n",
      "0.002s - accuracy: 0.953 - loss: 0.174\n",
      "Epoch 232/250:\n",
      "0.002s - accuracy: 0.945 - loss: 0.179\n",
      "Epoch 233/250:\n",
      "0.002s - accuracy: 0.945 - loss: 0.175\n",
      "Epoch 234/250:\n",
      "0.005s - accuracy: 0.945 - loss: 0.181\n",
      "Epoch 235/250:\n",
      "0.002s - accuracy: 0.945 - loss: 0.183\n",
      "Epoch 236/250:\n",
      "0.005s - accuracy: 0.953 - loss: 0.175\n",
      "Epoch 237/250:\n",
      "0.003s - accuracy: 0.953 - loss: 0.172\n",
      "Epoch 238/250:\n",
      "0.003s - accuracy: 0.945 - loss: 0.175\n",
      "Epoch 239/250:\n",
      "0.002s - accuracy: 0.953 - loss: 0.167\n",
      "Epoch 240/250:\n",
      "0.002s - accuracy: 0.953 - loss: 0.162\n",
      "Epoch 241/250:\n",
      "0.002s - accuracy: 0.961 - loss: 0.172\n",
      "Epoch 242/250:\n",
      "0.002s - accuracy: 0.938 - loss: 0.180\n",
      "Epoch 243/250:\n",
      "0.002s - accuracy: 0.953 - loss: 0.168\n",
      "Epoch 244/250:\n",
      "0.002s - accuracy: 0.953 - loss: 0.171\n",
      "Epoch 245/250:\n",
      "0.002s - accuracy: 0.953 - loss: 0.157\n",
      "Epoch 246/250:\n",
      "0.002s - accuracy: 0.953 - loss: 0.161\n",
      "Epoch 247/250:\n",
      "0.002s - accuracy: 0.953 - loss: 0.166\n",
      "Epoch 248/250:\n",
      "0.002s - accuracy: 0.961 - loss: 0.161\n",
      "Epoch 249/250:\n",
      "0.002s - accuracy: 0.953 - loss: 0.171\n",
      "Epoch 250/250:\n",
      "0.003s - accuracy: 0.953 - loss: 0.160\n"
     ]
    }
   ],
   "source": [
    "history = model.fit(train_ds,\n",
    "          epochs=250)"
   ]
  },
  {
   "cell_type": "code",
   "execution_count": 16,
   "metadata": {
    "collapsed": false
   },
   "outputs": [
    {
     "data": {
      "text/plain": "[<matplotlib.lines.Line2D at 0x7fde91ae5390>]"
     },
     "execution_count": 16,
     "metadata": {},
     "output_type": "execute_result"
    },
    {
     "data": {
      "text/plain": "<Figure size 640x480 with 1 Axes>",
      "image/png": "[encoded data removed]"
     },
     "metadata": {},
     "output_type": "display_data"
    }
   ],
   "source": [
    "plt.plot(history.epochs, history.history['loss'])"
   ]
  },
  {
   "cell_type": "code",
   "execution_count": 17,
   "metadata": {
    "collapsed": false
   },
   "outputs": [
    {
     "data": {
      "text/plain": "[<matplotlib.lines.Line2D at 0x7fde91742080>]"
     },
     "execution_count": 17,
     "metadata": {},
     "output_type": "execute_result"
    },
    {
     "data": {
      "text/plain": "<Figure size 640x480 with 1 Axes>",
      "image/png": "[encoded data removed]"
     },
     "metadata": {},
     "output_type": "display_data"
    }
   ],
   "source": [
    "plt.plot(history.epochs, history.history['accuracy'])"
   ]
  },
  {
   "cell_type": "code",
   "execution_count": 18,
   "metadata": {
    "collapsed": false
   },
   "outputs": [
    {
     "name": "stdout",
     "output_type": "stream",
     "text": [
      "Test set accuracy: 93%\n"
     ]
    }
   ],
   "source": [
    "y_pred = model.predict(test_ds.dataset.T)\n",
    "y_true = test_ds.target.T\n",
    "accuracy = nn.accuracy(y_true, y_pred)\n",
    "\n",
    "print(f'Test set accuracy: {accuracy:.0%}')"
   ]
  },
  {
   "cell_type": "code",
   "execution_count": 19,
   "metadata": {},
   "outputs": [
    {
     "data": {
      "text/plain": "array([0, 0, 0, 0, 0, 0, 0, 1, 1, 1, 1, 1, 1, 1, 1, 1, 1, 1, 2, 2, 1, 2,\n       2, 2, 2, 2, 2, 2, 2, 1])"
     },
     "execution_count": 19,
     "metadata": {},
     "output_type": "execute_result"
    }
   ],
   "source": [
    "np.argmax(y_pred, axis=0)\n"
   ]
  },
  {
   "cell_type": "code",
   "execution_count": 20,
   "metadata": {},
   "outputs": [
    {
     "data": {
      "text/plain": "array([0, 0, 0, 0, 0, 0, 0, 1, 1, 1, 1, 1, 1, 1, 1, 1, 1, 1, 2, 2, 2, 2,\n       2, 2, 2, 2, 2, 2, 2, 2])"
     },
     "execution_count": 20,
     "metadata": {},
     "output_type": "execute_result"
    }
   ],
   "source": [
    "np.argmax(y_true, axis=0)"
   ]
  },
  {
   "cell_type": "code",
   "execution_count": null,
   "outputs": [],
   "source": [],
   "metadata": {
    "collapsed": false
   }
  }
 ],
 "metadata": {
  "interpreter": {
   "hash": "f683e866da633316fc45c24f83e3fadb35ee149c9f6b5fec21b6b3b95d39e9b0"
  },
  "kernelspec": {
   "display_name": "Python 3.9.7 ('numpy-nn-ryL_BLtd-py3.9')",
   "language": "python",
   "name": "python3"
  },
  "language_info": {
   "codemirror_mode": {
    "name": "ipython",
    "version": 3
   },
   "file_extension": ".py",
   "mimetype": "text/x-python",
   "name": "python",
   "nbconvert_exporter": "python",
   "pygments_lexer": "ipython3",
   "version": "3.9.7"
  }
 },
 "nbformat": 4,
 "nbformat_minor": 0
}
